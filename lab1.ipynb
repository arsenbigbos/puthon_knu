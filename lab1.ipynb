{
 "cells": [
  {
   "cell_type": "markdown",
   "metadata": {
    "id": "39GnFUUhip2U"
   },
   "source": [
    "##Завдання 3"
   ]
  },
  {
   "cell_type": "code",
   "execution_count": 9,
   "metadata": {
    "executionInfo": {
     "elapsed": 370,
     "status": "ok",
     "timestamp": 1664444633369,
     "user": {
      "displayName": "Вадім Миценко",
      "userId": "11968395235538177405"
     },
     "user_tz": -180
    },
    "id": "TkLSus8g45ux"
   },
   "outputs": [],
   "source": [
    "import math\n",
    "import random\n",
    "import numpy as np\n",
    "import matplotlib"
   ]
  },
  {
   "cell_type": "code",
   "execution_count": 2,
   "metadata": {
    "colab": {
     "base_uri": "https://localhost:8080/"
    },
    "executionInfo": {
     "elapsed": 13,
     "status": "ok",
     "timestamp": 1663235367141,
     "user": {
      "displayName": "Вадім Миценко",
      "userId": "11968395235538177405"
     },
     "user_tz": -180
    },
    "id": "SGT7vSngi815",
    "outputId": "aceed32a-c7cc-4aad-d069-e5447f72e3d8"
   },
   "outputs": [
    {
     "name": "stdout",
     "output_type": "stream",
     "text": [
      "Wall time: 0 ns\n"
     ]
    },
    {
     "data": {
      "text/plain": [
       "265616025911851103824867590481468036207394504121788161910825597879541845282601946331090882441377"
      ]
     },
     "execution_count": 2,
     "metadata": {},
     "output_type": "execute_result"
    }
   ],
   "source": [
    "%time 2**300 + 3**200\n"
   ]
  },
  {
   "cell_type": "code",
   "execution_count": 3,
   "metadata": {
    "colab": {
     "base_uri": "https://localhost:8080/"
    },
    "executionInfo": {
     "elapsed": 16,
     "status": "ok",
     "timestamp": 1664096660062,
     "user": {
      "displayName": "Вадім Миценко",
      "userId": "11968395235538177405"
     },
     "user_tz": -180
    },
    "id": "jHeRAFfM4pc_",
    "outputId": "80f1a5a4-e466-41cb-ecef-1a2e0e063ebb"
   },
   "outputs": [
    {
     "name": "stdout",
     "output_type": "stream",
     "text": [
      "Wall time: 0 ns\n"
     ]
    },
    {
     "data": {
      "text/plain": [
       "1.8666209983995007e+33"
      ]
     },
     "execution_count": 3,
     "metadata": {},
     "output_type": "execute_result"
    }
   ],
   "source": [
    "%%time\n",
    "5 * math.exp(75)"
   ]
  },
  {
   "cell_type": "markdown",
   "metadata": {
    "id": "piypsz9YkypA"
   },
   "source": [
    "##Завдання 4"
   ]
  },
  {
   "cell_type": "code",
   "execution_count": 4,
   "metadata": {
    "colab": {
     "base_uri": "https://localhost:8080/"
    },
    "executionInfo": {
     "elapsed": 8,
     "status": "ok",
     "timestamp": 1663236653534,
     "user": {
      "displayName": "Вадім Миценко",
      "userId": "11968395235538177405"
     },
     "user_tz": -180
    },
    "id": "J3iGGCnDkxbz",
    "outputId": "0ee1fe83-6f7f-447d-b31c-8dd8bce70a1a"
   },
   "outputs": [
    {
     "name": "stdout",
     "output_type": "stream",
     "text": [
      "60 ns ± 31.6 ns per loop (mean ± std. dev. of 8 runs, 5 loops each)\n"
     ]
    }
   ],
   "source": [
    "%timeit -r 8 -n 5 10**10 + 24"
   ]
  },
  {
   "cell_type": "code",
   "execution_count": 6,
   "metadata": {
    "colab": {
     "base_uri": "https://localhost:8080/"
    },
    "executionInfo": {
     "elapsed": 2186,
     "status": "ok",
     "timestamp": 1663237162125,
     "user": {
      "displayName": "Вадім Миценко",
      "userId": "11968395235538177405"
     },
     "user_tz": -180
    },
    "id": "NAa6zXcCoSVF",
    "outputId": "65ec3599-5ddc-4846-c038-556b8173b246"
   },
   "outputs": [
    {
     "name": "stdout",
     "output_type": "stream",
     "text": [
      "129 µs ± 2.46 µs per loop (mean ± std. dev. of 3 runs, 10000 loops each)\n"
     ]
    }
   ],
   "source": [
    "%%timeit -r 3\n",
    "a = 0\n",
    "for i in range (1, 1000):\n",
    "  i += a"
   ]
  },
  {
   "cell_type": "code",
   "execution_count": 7,
   "metadata": {
    "colab": {
     "base_uri": "https://localhost:8080/"
    },
    "executionInfo": {
     "elapsed": 10786,
     "status": "ok",
     "timestamp": 1663238369183,
     "user": {
      "displayName": "Вадім Миценко",
      "userId": "11968395235538177405"
     },
     "user_tz": -180
    },
    "id": "m3dfiIbgqcpM",
    "outputId": "dcb986c9-bc30-4df5-eefb-b9126ea396bf"
   },
   "outputs": [
    {
     "name": "stdout",
     "output_type": "stream",
     "text": [
      "25.9 ns ± 2.03 ns per loop (mean ± std. dev. of 7 runs, 10000000 loops each)\n"
     ]
    }
   ],
   "source": [
    "%timeit 666 * 777"
   ]
  },
  {
   "cell_type": "code",
   "execution_count": 10,
   "metadata": {
    "colab": {
     "base_uri": "https://localhost:8080/"
    },
    "executionInfo": {
     "elapsed": 2601,
     "status": "ok",
     "timestamp": 1663238338160,
     "user": {
      "displayName": "Вадім Миценко",
      "userId": "11968395235538177405"
     },
     "user_tz": -180
    },
    "id": "rP2kb43KrG5Q",
    "outputId": "4e370ed1-115c-4943-d8dd-ba52c8247ecd"
   },
   "outputs": [
    {
     "name": "stdout",
     "output_type": "stream",
     "text": [
      "77.3 µs ± 4.31 µs per loop (mean ± std. dev. of 7 runs, 10000 loops each)\n"
     ]
    }
   ],
   "source": [
    "%%timeit\n",
    "a = 0\n",
    "for i in range(1, 666):\n",
    "  i += a"
   ]
  },
  {
   "cell_type": "markdown",
   "metadata": {
    "id": "66NIhW1qszXI"
   },
   "source": [
    "##Завдання 5"
   ]
  },
  {
   "cell_type": "code",
   "execution_count": 11,
   "metadata": {
    "colab": {
     "base_uri": "https://localhost:8080/"
    },
    "executionInfo": {
     "elapsed": 5479,
     "status": "ok",
     "timestamp": 1664444676362,
     "user": {
      "displayName": "Вадім Миценко",
      "userId": "11968395235538177405"
     },
     "user_tz": -180
    },
    "id": "CgHCdI4Bs45T",
    "outputId": "66f9d8fa-2706-4ee8-f777-7899f0b8e06a"
   },
   "outputs": [
    {
     "name": "stdout",
     "output_type": "stream",
     "text": [
      "4.17 s ± 350 ms per loop (mean ± std. dev. of 7 runs, 1 loop each)\n"
     ]
    }
   ],
   "source": [
    "n = 9 ** 8\n",
    "t = %timeit -o sum(range(n))"
   ]
  },
  {
   "cell_type": "code",
   "execution_count": 12,
   "metadata": {
    "colab": {
     "base_uri": "https://localhost:8080/"
    },
    "executionInfo": {
     "elapsed": 413,
     "status": "ok",
     "timestamp": 1664097053871,
     "user": {
      "displayName": "Вадім Миценко",
      "userId": "11968395235538177405"
     },
     "user_tz": -180
    },
    "id": "hC1uAs6Avi6c",
    "outputId": "77e48e9c-7a02-4cf0-cb75-0d2dd9b77c6d"
   },
   "outputs": [
    {
     "name": "stdout",
     "output_type": "stream",
     "text": [
      "Результати вимірювання часу:\n",
      "[4.396493499999991, 4.042302100000001, 4.0201205999999985, 4.081134300000002, 4.197766299999998, 4.853605000000002, 3.6293943000000013]\n",
      "Найкращий результат з вимірювання часу:\n",
      "3.6293943000000013\n"
     ]
    }
   ],
   "source": [
    "print('Результати вимірювання часу:')\n",
    "print(t.timings)\n",
    "print('Найкращий результат з вимірювання часу:')\n",
    "print(t.best)"
   ]
  },
  {
   "cell_type": "markdown",
   "metadata": {
    "id": "JQ2yf-4hyhIU"
   },
   "source": [
    "##Завдання 6"
   ]
  },
  {
   "cell_type": "markdown",
   "metadata": {
    "id": "b9vw7VMJ-bXN"
   },
   "source": [
    "###Таблиця"
   ]
  },
  {
   "cell_type": "markdown",
   "metadata": {
    "id": "y0haNm1U0p7W"
   },
   "source": [
    "Вираз  | Автооцінювання | %time | %%time | %timeit(min) | %%timeit(avg)\n",
    "-------| -------------- | ----- | ------ | ------------ | ------------- \n",
    "1|  0.243 c |50.1 мкс|80.1 мкс|903 нс|934 нс|\n",
    "2| 0.311 c|1.67 мс|1.73 мс|1.35 мс|1.36 мс|\n",
    "3|0.408 с |5.58 мс|6.56 мс|2.61 мс|2.70 \n",
    "\n",
    "1.   Новый пункт\n",
    "2.   Новый пункт\n",
    "\n",
    "мс|"
   ]
  },
  {
   "cell_type": "markdown",
   "metadata": {
    "id": "7OhHhpHT-_3q"
   },
   "source": [
    "###Вираз №1"
   ]
  },
  {
   "cell_type": "code",
   "execution_count": 13,
   "metadata": {
    "colab": {
     "base_uri": "https://localhost:8080/"
    },
    "executionInfo": {
     "elapsed": 243,
     "status": "ok",
     "timestamp": 1664444837655,
     "user": {
      "displayName": "Вадім Миценко",
      "userId": "11968395235538177405"
     },
     "user_tz": -180
    },
    "id": "TY1Y8EWHIef1",
    "outputId": "9270cae0-7021-428b-8837-b364ba739b29"
   },
   "outputs": [
    {
     "data": {
      "text/plain": [
       "0.8686709614860095"
      ]
     },
     "execution_count": 13,
     "metadata": {},
     "output_type": "execute_result"
    }
   ],
   "source": [
    "np.sinh(np.pi / 4)"
   ]
  },
  {
   "cell_type": "code",
   "execution_count": 14,
   "metadata": {
    "colab": {
     "base_uri": "https://localhost:8080/"
    },
    "executionInfo": {
     "elapsed": 370,
     "status": "ok",
     "timestamp": 1664099643245,
     "user": {
      "displayName": "Вадім Миценко",
      "userId": "11968395235538177405"
     },
     "user_tz": -180
    },
    "id": "y52jFYNV3w3i",
    "outputId": "18136e53-91e7-4bdc-8d07-ad2ee8e50f38"
   },
   "outputs": [
    {
     "name": "stdout",
     "output_type": "stream",
     "text": [
      "Wall time: 0 ns\n"
     ]
    },
    {
     "data": {
      "text/plain": [
       "0.8686709614860095"
      ]
     },
     "execution_count": 14,
     "metadata": {},
     "output_type": "execute_result"
    }
   ],
   "source": [
    "%time np.sinh(np.pi / 4)"
   ]
  },
  {
   "cell_type": "code",
   "execution_count": 15,
   "metadata": {
    "colab": {
     "base_uri": "https://localhost:8080/"
    },
    "executionInfo": {
     "elapsed": 261,
     "status": "ok",
     "timestamp": 1664099817579,
     "user": {
      "displayName": "Вадім Миценко",
      "userId": "11968395235538177405"
     },
     "user_tz": -180
    },
    "id": "HJjtUfp05WI8",
    "outputId": "8cde05d8-1a3d-4659-d5e1-7db770f50c69"
   },
   "outputs": [
    {
     "name": "stdout",
     "output_type": "stream",
     "text": [
      "Wall time: 0 ns\n"
     ]
    },
    {
     "data": {
      "text/plain": [
       "0.8686709614860095"
      ]
     },
     "execution_count": 15,
     "metadata": {},
     "output_type": "execute_result"
    }
   ],
   "source": [
    "%%time \n",
    "np.sinh(np.pi / 4)"
   ]
  },
  {
   "cell_type": "code",
   "execution_count": 16,
   "metadata": {
    "colab": {
     "base_uri": "https://localhost:8080/"
    },
    "executionInfo": {
     "elapsed": 10556,
     "status": "ok",
     "timestamp": 1664099943023,
     "user": {
      "displayName": "Вадім Миценко",
      "userId": "11968395235538177405"
     },
     "user_tz": -180
    },
    "id": "JGeRgsdM7FHT",
    "outputId": "63197775-4ce5-471d-b2ee-1227f717cc56"
   },
   "outputs": [
    {
     "name": "stdout",
     "output_type": "stream",
     "text": [
      "2.78 µs ± 57.7 ns per loop (mean ± std. dev. of 10 runs, 100000 loops each)\n"
     ]
    },
    {
     "data": {
      "text/plain": [
       "2.70179799999994e-06"
      ]
     },
     "execution_count": 16,
     "metadata": {},
     "output_type": "execute_result"
    }
   ],
   "source": [
    "first_ex = %timeit -r 10 -o np.sinh(np.pi / 4)\n",
    "first_ex.best"
   ]
  },
  {
   "cell_type": "code",
   "execution_count": 17,
   "metadata": {
    "colab": {
     "base_uri": "https://localhost:8080/"
    },
    "executionInfo": {
     "elapsed": 10812,
     "status": "ok",
     "timestamp": 1664100039819,
     "user": {
      "displayName": "Вадім Миценко",
      "userId": "11968395235538177405"
     },
     "user_tz": -180
    },
    "id": "CZpXTnLF8hpL",
    "outputId": "4e67e507-9592-468f-b342-98d7b757e893"
   },
   "outputs": [
    {
     "name": "stdout",
     "output_type": "stream",
     "text": [
      "2.75 µs ± 282 ns per loop (mean ± std. dev. of 10 runs, 100000 loops each)\n"
     ]
    }
   ],
   "source": [
    "%%timeit -r 10\n",
    "np.sinh(np.pi / 4)"
   ]
  },
  {
   "cell_type": "markdown",
   "metadata": {
    "id": "FNpycdb8_P87"
   },
   "source": [
    "###Вираз №2"
   ]
  },
  {
   "cell_type": "code",
   "execution_count": 19,
   "metadata": {
    "colab": {
     "base_uri": "https://localhost:8080/"
    },
    "executionInfo": {
     "elapsed": 311,
     "status": "ok",
     "timestamp": 1664444861659,
     "user": {
      "displayName": "Вадім Миценко",
      "userId": "11968395235538177405"
     },
     "user_tz": -180
    },
    "id": "l7FUhQcdIrph",
    "outputId": "174717e9-0c29-45df-fe36-560ba004f8d4"
   },
   "outputs": [
    {
     "data": {
      "text/plain": [
       "3.431320920355141e-05"
      ]
     },
     "execution_count": 19,
     "metadata": {},
     "output_type": "execute_result"
    }
   ],
   "source": [
    "n = 10000\n",
    "min([random.random() for i in range(n)])"
   ]
  },
  {
   "cell_type": "code",
   "execution_count": 20,
   "metadata": {
    "colab": {
     "base_uri": "https://localhost:8080/"
    },
    "executionInfo": {
     "elapsed": 341,
     "status": "ok",
     "timestamp": 1664104283702,
     "user": {
      "displayName": "Вадім Миценко",
      "userId": "11968395235538177405"
     },
     "user_tz": -180
    },
    "id": "i_9Kv7vZ9GsI",
    "outputId": "a52a553e-3cbd-4a15-df78-ffe2bd831278"
   },
   "outputs": [
    {
     "name": "stdout",
     "output_type": "stream",
     "text": [
      "Wall time: 2.55 ms\n"
     ]
    },
    {
     "data": {
      "text/plain": [
       "4.9118747095344695e-05"
      ]
     },
     "execution_count": 20,
     "metadata": {},
     "output_type": "execute_result"
    }
   ],
   "source": [
    "%time min([random.random() for i in range(n)])"
   ]
  },
  {
   "cell_type": "code",
   "execution_count": 21,
   "metadata": {
    "colab": {
     "base_uri": "https://localhost:8080/"
    },
    "executionInfo": {
     "elapsed": 11,
     "status": "ok",
     "timestamp": 1664102142099,
     "user": {
      "displayName": "Вадім Миценко",
      "userId": "11968395235538177405"
     },
     "user_tz": -180
    },
    "id": "upDKaCkI_KKj",
    "outputId": "4421b012-0c38-42cb-88d2-0e451dbecc5e"
   },
   "outputs": [
    {
     "name": "stdout",
     "output_type": "stream",
     "text": [
      "Wall time: 1.76 ms\n"
     ]
    },
    {
     "data": {
      "text/plain": [
       "4.2655979159977875e-07"
      ]
     },
     "execution_count": 21,
     "metadata": {},
     "output_type": "execute_result"
    }
   ],
   "source": [
    "%%time\n",
    "min([random.random() for i in range(n)])"
   ]
  },
  {
   "cell_type": "code",
   "execution_count": 22,
   "metadata": {
    "colab": {
     "base_uri": "https://localhost:8080/"
    },
    "executionInfo": {
     "elapsed": 15555,
     "status": "ok",
     "timestamp": 1664102180561,
     "user": {
      "displayName": "Вадім Миценко",
      "userId": "11968395235538177405"
     },
     "user_tz": -180
    },
    "id": "dEgygZQq_gb8",
    "outputId": "a514b1ce-fde2-4b38-e585-243a4b66a5e7"
   },
   "outputs": [
    {
     "name": "stdout",
     "output_type": "stream",
     "text": [
      "3.22 ms ± 429 µs per loop (mean ± std. dev. of 10 runs, 100 loops each)\n"
     ]
    },
    {
     "data": {
      "text/plain": [
       "0.0026426309999999374"
      ]
     },
     "execution_count": 22,
     "metadata": {},
     "output_type": "execute_result"
    }
   ],
   "source": [
    "second_ex = %timeit -r 10 -o min([random.random() for i in range(n)])\n",
    "second_ex.best"
   ]
  },
  {
   "cell_type": "code",
   "execution_count": 23,
   "metadata": {
    "colab": {
     "base_uri": "https://localhost:8080/"
    },
    "executionInfo": {
     "elapsed": 15533,
     "status": "ok",
     "timestamp": 1664102205808,
     "user": {
      "displayName": "Вадім Миценко",
      "userId": "11968395235538177405"
     },
     "user_tz": -180
    },
    "id": "y7Ab1jTHAjoa",
    "outputId": "02c306aa-828f-4ce7-c256-afc84dfe1080"
   },
   "outputs": [
    {
     "name": "stdout",
     "output_type": "stream",
     "text": [
      "3.19 ms ± 124 µs per loop (mean ± std. dev. of 10 runs, 100 loops each)\n"
     ]
    }
   ],
   "source": [
    "%%timeit -r 10 \n",
    "min([random.random() for i in range(n)]) "
   ]
  },
  {
   "cell_type": "markdown",
   "metadata": {
    "id": "8X9gL3VYAC5N"
   },
   "source": [
    "###Вираз №3"
   ]
  },
  {
   "cell_type": "code",
   "execution_count": 24,
   "metadata": {
    "colab": {
     "base_uri": "https://localhost:8080/"
    },
    "executionInfo": {
     "elapsed": 408,
     "status": "ok",
     "timestamp": 1664444718741,
     "user": {
      "displayName": "Вадім Миценко",
      "userId": "11968395235538177405"
     },
     "user_tz": -180
    },
    "id": "T6K97CkvI1Cq",
    "outputId": "616286e4-bf7b-4161-bbba-a70bc57fa73f"
   },
   "outputs": [
    {
     "data": {
      "text/plain": [
       "6.309188431963435e-05"
      ]
     },
     "execution_count": 24,
     "metadata": {},
     "output_type": "execute_result"
    }
   ],
   "source": [
    "min(np.sinh([random.random() for i in range(n)]))"
   ]
  },
  {
   "cell_type": "code",
   "execution_count": 25,
   "metadata": {
    "colab": {
     "base_uri": "https://localhost:8080/"
    },
    "executionInfo": {
     "elapsed": 434,
     "status": "ok",
     "timestamp": 1664102232113,
     "user": {
      "displayName": "Вадім Миценко",
      "userId": "11968395235538177405"
     },
     "user_tz": -180
    },
    "id": "NAHyE5bFBljt",
    "outputId": "eb86a154-3ef2-4ad2-a487-d47a4c09dff2"
   },
   "outputs": [
    {
     "name": "stdout",
     "output_type": "stream",
     "text": [
      "Wall time: 13.1 ms\n"
     ]
    },
    {
     "data": {
      "text/plain": [
       "4.1412703130363506e-05"
      ]
     },
     "execution_count": 25,
     "metadata": {},
     "output_type": "execute_result"
    }
   ],
   "source": [
    "%time min(np.sinh([random.random() for i in range(n)]))"
   ]
  },
  {
   "cell_type": "code",
   "execution_count": 26,
   "metadata": {
    "colab": {
     "base_uri": "https://localhost:8080/"
    },
    "executionInfo": {
     "elapsed": 424,
     "status": "ok",
     "timestamp": 1664104405166,
     "user": {
      "displayName": "Вадім Миценко",
      "userId": "11968395235538177405"
     },
     "user_tz": -180
    },
    "id": "o8MYuQ80DwKX",
    "outputId": "4cc7987f-3f84-40f3-d76d-3b88a767b349"
   },
   "outputs": [
    {
     "name": "stdout",
     "output_type": "stream",
     "text": [
      "Wall time: 5.54 ms\n"
     ]
    },
    {
     "data": {
      "text/plain": [
       "0.00010578474419288082"
      ]
     },
     "execution_count": 26,
     "metadata": {},
     "output_type": "execute_result"
    }
   ],
   "source": [
    "%%time\n",
    "min(np.sinh([random.random() for i in range(n)]))"
   ]
  },
  {
   "cell_type": "code",
   "execution_count": 27,
   "metadata": {
    "colab": {
     "base_uri": "https://localhost:8080/"
    },
    "executionInfo": {
     "elapsed": 3437,
     "status": "ok",
     "timestamp": 1664102239695,
     "user": {
      "displayName": "Вадім Миценко",
      "userId": "11968395235538177405"
     },
     "user_tz": -180
    },
    "id": "Zjjc0syWEbTt",
    "outputId": "23cbe082-ca39-4a4f-dd27-525c1d60abef"
   },
   "outputs": [
    {
     "name": "stdout",
     "output_type": "stream",
     "text": [
      "5.87 ms ± 495 µs per loop (mean ± std. dev. of 10 runs, 100 loops each)\n"
     ]
    },
    {
     "data": {
      "text/plain": [
       "0.0049028849999999125"
      ]
     },
     "execution_count": 27,
     "metadata": {},
     "output_type": "execute_result"
    }
   ],
   "source": [
    "third_ex = %timeit -r 10 -o min(np.sinh([random.random() for i in range(n)]))\n",
    "third_ex.best"
   ]
  },
  {
   "cell_type": "code",
   "execution_count": null,
   "metadata": {
    "colab": {
     "base_uri": "https://localhost:8080/"
    },
    "executionInfo": {
     "elapsed": 2581,
     "status": "ok",
     "timestamp": 1664102244603,
     "user": {
      "displayName": "Вадім Миценко",
      "userId": "11968395235538177405"
     },
     "user_tz": -180
    },
    "id": "LwLhQu0wE-cm",
    "outputId": "c7cf80cb-13dc-4375-81c8-9fd9e1b4b827"
   },
   "outputs": [],
   "source": [
    "%%timeit\n",
    "min(np.sinh([random.random() for i in range(n)]))"
   ]
  },
  {
   "cell_type": "markdown",
   "metadata": {
    "id": "MLkvWunQF0lA"
   },
   "source": [
    "##Завдання 8"
   ]
  },
  {
   "cell_type": "code",
   "execution_count": null,
   "metadata": {
    "executionInfo": {
     "elapsed": 264,
     "status": "ok",
     "timestamp": 1664445256001,
     "user": {
      "displayName": "Вадім Миценко",
      "userId": "11968395235538177405"
     },
     "user_tz": -180
    },
    "id": "WUorjMovF3df"
   },
   "outputs": [],
   "source": [
    "def func2_list(n):\n",
    "   return min([random.random() for i in range(n)])   "
   ]
  },
  {
   "cell_type": "code",
   "execution_count": null,
   "metadata": {
    "executionInfo": {
     "elapsed": 2,
     "status": "ok",
     "timestamp": 1664445256833,
     "user": {
      "displayName": "Вадім Миценко",
      "userId": "11968395235538177405"
     },
     "user_tz": -180
    },
    "id": "L1PRpEx3HkY8"
   },
   "outputs": [],
   "source": [
    "def func3_list(n):\n",
    "   return min([math.sinh(random.random())for i in range(n)])"
   ]
  },
  {
   "cell_type": "markdown",
   "metadata": {
    "id": "Md-8PTbGJ4mq"
   },
   "source": [
    "##Завдання 9"
   ]
  },
  {
   "cell_type": "code",
   "execution_count": null,
   "metadata": {
    "executionInfo": {
     "elapsed": 3,
     "status": "ok",
     "timestamp": 1664445257799,
     "user": {
      "displayName": "Вадім Миценко",
      "userId": "11968395235538177405"
     },
     "user_tz": -180
    },
    "id": "MS0hGfE0J3YQ"
   },
   "outputs": [],
   "source": [
    "def func2_np(n):\n",
    "   return np.min(np.array(np.random.sample(n)))  "
   ]
  },
  {
   "cell_type": "code",
   "execution_count": null,
   "metadata": {
    "executionInfo": {
     "elapsed": 4,
     "status": "ok",
     "timestamp": 1664445258615,
     "user": {
      "displayName": "Вадім Миценко",
      "userId": "11968395235538177405"
     },
     "user_tz": -180
    },
    "id": "cs6AnuoJNbIu"
   },
   "outputs": [],
   "source": [
    "def func3_np(n):\n",
    "   return np.min(np.sinh(np.array(np.random.sample(n))))"
   ]
  },
  {
   "cell_type": "markdown",
   "metadata": {
    "id": "wnq5howKOonv"
   },
   "source": [
    "##Завдання 10"
   ]
  },
  {
   "cell_type": "code",
   "execution_count": null,
   "metadata": {
    "colab": {
     "base_uri": "https://localhost:8080/"
    },
    "executionInfo": {
     "elapsed": 6136,
     "status": "ok",
     "timestamp": 1664445267187,
     "user": {
      "displayName": "Вадім Миценко",
      "userId": "11968395235538177405"
     },
     "user_tz": -180
    },
    "id": "i5_W-fpVOTCX",
    "outputId": "ea3e8e8a-e630-4acf-8ad0-b337b8d16b3b"
   },
   "outputs": [
    {
     "name": "stdout",
     "output_type": "stream",
     "text": [
      "Collecting simple_benchmark\n",
      "  Downloading simple_benchmark-0.1.0.tar.gz (13 kB)\n",
      "  Preparing metadata (setup.py): started\n",
      "  Preparing metadata (setup.py): finished with status 'done'\n",
      "Building wheels for collected packages: simple_benchmark\n",
      "  Building wheel for simple_benchmark (setup.py): started\n",
      "  Building wheel for simple_benchmark (setup.py): finished with status 'done'\n",
      "  Created wheel for simple_benchmark: filename=simple_benchmark-0.1.0-py3-none-any.whl size=11658 sha256=112116768a924f351a9b45f7e9d2cf547817753ce3dc3f39ba92021530b82709\n",
      "  Stored in directory: c:\\users\\arsen\\appdata\\local\\pip\\cache\\wheels\\f7\\d1\\b8\\ee502641d25e272267c944c59202c3d85c18e7f0b08484ee69\n",
      "Successfully built simple_benchmark\n",
      "Installing collected packages: simple_benchmark\n",
      "Successfully installed simple_benchmark-0.1.0\n"
     ]
    }
   ],
   "source": [
    "!pip install simple_benchmark\n",
    "from simple_benchmark import  benchmark"
   ]
  },
  {
   "cell_type": "markdown",
   "metadata": {
    "id": "u3JbnQgsOsA0"
   },
   "source": [
    "##Завдання 11"
   ]
  },
  {
   "cell_type": "code",
   "execution_count": null,
   "metadata": {
    "colab": {
     "base_uri": "https://localhost:8080/",
     "height": 441
    },
    "executionInfo": {
     "elapsed": 29122,
     "status": "ok",
     "timestamp": 1664445298669,
     "user": {
      "displayName": "Вадім Миценко",
      "userId": "11968395235538177405"
     },
     "user_tz": -180
    },
    "id": "KKo907jmVSb7",
    "outputId": "96013145-317d-427e-96cb-fd8d45332213"
   },
   "outputs": [],
   "source": [
    "b = benchmark([func2_list, func2_np, func3_list, func3_np], arguments = { 10 ** i : 10 ** i for i in range(8)})\n",
    "print(b)\n",
    "b.plot()"
   ]
  },
  {
   "cell_type": "code",
   "execution_count": null,
   "metadata": {},
   "outputs": [],
   "source": []
  }
 ],
 "metadata": {
  "colab": {
   "authorship_tag": "ABX9TyOWeMV+w+3LNDaT3dZXFVRK",
   "collapsed_sections": [
    "39GnFUUhip2U",
    "piypsz9YkypA",
    "66NIhW1qszXI",
    "b9vw7VMJ-bXN",
    "7OhHhpHT-_3q",
    "FNpycdb8_P87",
    "8X9gL3VYAC5N"
   ],
   "provenance": []
  },
  "kernelspec": {
   "display_name": "Python 3 (ipykernel)",
   "language": "python",
   "name": "python3"
  },
  "language_info": {
   "codemirror_mode": {
    "name": "ipython",
    "version": 3
   },
   "file_extension": ".py",
   "mimetype": "text/x-python",
   "name": "python",
   "nbconvert_exporter": "python",
   "pygments_lexer": "ipython3",
   "version": "3.9.13"
  }
 },
 "nbformat": 4,
 "nbformat_minor": 4
}
