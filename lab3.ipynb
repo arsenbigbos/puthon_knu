{
 "cells": [
  {
   "cell_type": "code",
   "execution_count": null,
   "metadata": {
    "id": "UI11ZdmEun3A"
   },
   "outputs": [],
   "source": [
    "import seaborn as sns\n",
    "import pandas as pd\n",
    "import matplotlib.pyplot as plt"
   ]
  },
  {
   "cell_type": "markdown",
   "metadata": {
    "id": "JJ7H1QUZw6kj"
   },
   "source": [
    "###Завдання 2"
   ]
  },
  {
   "cell_type": "code",
   "execution_count": null,
   "metadata": {
    "id": "sBkX0On-w51l"
   },
   "outputs": [],
   "source": [
    "df = pd.read_csv(\"bank_marketing.csv\", sep=\";\")"
   ]
  },
  {
   "cell_type": "markdown",
   "metadata": {
    "id": "Anj7QkQaw_07"
   },
   "source": [
    "###Завдання 3"
   ]
  },
  {
   "cell_type": "code",
   "execution_count": 19,
   "metadata": {
    "colab": {
     "base_uri": "https://localhost:8080/"
    },
    "executionInfo": {
     "elapsed": 338,
     "status": "ok",
     "timestamp": 1667215262348,
     "user": {
      "displayName": "Вадім Миценко",
      "userId": "11968395235538177405"
     },
     "user_tz": -120
    },
    "id": "-LDb_c42xC1H",
    "outputId": "7d9dd41e-b76f-417e-91c1-593b83f096f4"
   },
   "outputs": [
    {
     "name": "stdout",
     "output_type": "stream",
     "text": [
      "<class 'pandas.core.frame.DataFrame'>\n",
      "RangeIndex: 4119 entries, 0 to 4118\n",
      "Data columns (total 21 columns):\n",
      " #   Column          Non-Null Count  Dtype  \n",
      "---  ------          --------------  -----  \n",
      " 0   age             4119 non-null   int64  \n",
      " 1   job             4119 non-null   object \n",
      " 2   marital         4119 non-null   object \n",
      " 3   education       4119 non-null   object \n",
      " 4   default         4119 non-null   object \n",
      " 5   housing         4119 non-null   object \n",
      " 6   loan            4119 non-null   object \n",
      " 7   contact         4119 non-null   object \n",
      " 8   month           4119 non-null   object \n",
      " 9   day_of_week     4119 non-null   object \n",
      " 10  duration        4119 non-null   int64  \n",
      " 11  campaign        4119 non-null   int64  \n",
      " 12  pdays           4119 non-null   int64  \n",
      " 13  previous        4119 non-null   int64  \n",
      " 14  poutcome        4119 non-null   object \n",
      " 15  emp.var.rate    4119 non-null   float64\n",
      " 16  cons.price.idx  4119 non-null   float64\n",
      " 17  cons.conf.idx   4119 non-null   float64\n",
      " 18  euribor3m       4119 non-null   float64\n",
      " 19  nr.employed     4119 non-null   float64\n",
      " 20  y               4119 non-null   object \n",
      "dtypes: float64(5), int64(5), object(11)\n",
      "memory usage: 675.9+ KB\n"
     ]
    }
   ],
   "source": [
    "df.info()"
   ]
  },
  {
   "cell_type": "code",
   "execution_count": null,
   "metadata": {
    "colab": {
     "base_uri": "https://localhost:8080/",
     "height": 364
    },
    "executionInfo": {
     "elapsed": 279,
     "status": "ok",
     "timestamp": 1667215049801,
     "user": {
      "displayName": "Вадім Миценко",
      "userId": "11968395235538177405"
     },
     "user_tz": -120
    },
    "id": "404TLgk_xq-t",
    "outputId": "c860f45b-887f-42c7-9d7e-57a0617719e7"
   },
   "outputs": [
    {
     "data": {
      "text/html": [
       "\n",
       "  <div id=\"df-7ae1c3e0-cb13-4f16-aa13-62f67861b655\">\n",
       "    <div class=\"colab-df-container\">\n",
       "      <div>\n",
       "<style scoped>\n",
       "    .dataframe tbody tr th:only-of-type {\n",
       "        vertical-align: middle;\n",
       "    }\n",
       "\n",
       "    .dataframe tbody tr th {\n",
       "        vertical-align: top;\n",
       "    }\n",
       "\n",
       "    .dataframe thead th {\n",
       "        text-align: right;\n",
       "    }\n",
       "</style>\n",
       "<table border=\"1\" class=\"dataframe\">\n",
       "  <thead>\n",
       "    <tr style=\"text-align: right;\">\n",
       "      <th></th>\n",
       "      <th>age</th>\n",
       "      <th>duration</th>\n",
       "      <th>campaign</th>\n",
       "      <th>pdays</th>\n",
       "      <th>previous</th>\n",
       "      <th>emp.var.rate</th>\n",
       "      <th>cons.price.idx</th>\n",
       "      <th>cons.conf.idx</th>\n",
       "      <th>euribor3m</th>\n",
       "      <th>nr.employed</th>\n",
       "    </tr>\n",
       "  </thead>\n",
       "  <tbody>\n",
       "    <tr>\n",
       "      <th>count</th>\n",
       "      <td>4119.000000</td>\n",
       "      <td>4119.000000</td>\n",
       "      <td>4119.000000</td>\n",
       "      <td>4119.000000</td>\n",
       "      <td>4119.000000</td>\n",
       "      <td>4119.000000</td>\n",
       "      <td>4119.000000</td>\n",
       "      <td>4119.000000</td>\n",
       "      <td>4119.000000</td>\n",
       "      <td>4119.000000</td>\n",
       "    </tr>\n",
       "    <tr>\n",
       "      <th>mean</th>\n",
       "      <td>40.113620</td>\n",
       "      <td>256.788055</td>\n",
       "      <td>2.537266</td>\n",
       "      <td>960.422190</td>\n",
       "      <td>0.190337</td>\n",
       "      <td>0.084972</td>\n",
       "      <td>93.579704</td>\n",
       "      <td>-40.499102</td>\n",
       "      <td>3.621356</td>\n",
       "      <td>5166.481695</td>\n",
       "    </tr>\n",
       "    <tr>\n",
       "      <th>std</th>\n",
       "      <td>10.313362</td>\n",
       "      <td>254.703736</td>\n",
       "      <td>2.568159</td>\n",
       "      <td>191.922786</td>\n",
       "      <td>0.541788</td>\n",
       "      <td>1.563114</td>\n",
       "      <td>0.579349</td>\n",
       "      <td>4.594578</td>\n",
       "      <td>1.733591</td>\n",
       "      <td>73.667904</td>\n",
       "    </tr>\n",
       "    <tr>\n",
       "      <th>min</th>\n",
       "      <td>18.000000</td>\n",
       "      <td>0.000000</td>\n",
       "      <td>1.000000</td>\n",
       "      <td>0.000000</td>\n",
       "      <td>0.000000</td>\n",
       "      <td>-3.400000</td>\n",
       "      <td>92.201000</td>\n",
       "      <td>-50.800000</td>\n",
       "      <td>0.635000</td>\n",
       "      <td>4963.600000</td>\n",
       "    </tr>\n",
       "    <tr>\n",
       "      <th>25%</th>\n",
       "      <td>32.000000</td>\n",
       "      <td>103.000000</td>\n",
       "      <td>1.000000</td>\n",
       "      <td>999.000000</td>\n",
       "      <td>0.000000</td>\n",
       "      <td>-1.800000</td>\n",
       "      <td>93.075000</td>\n",
       "      <td>-42.700000</td>\n",
       "      <td>1.334000</td>\n",
       "      <td>5099.100000</td>\n",
       "    </tr>\n",
       "    <tr>\n",
       "      <th>50%</th>\n",
       "      <td>38.000000</td>\n",
       "      <td>181.000000</td>\n",
       "      <td>2.000000</td>\n",
       "      <td>999.000000</td>\n",
       "      <td>0.000000</td>\n",
       "      <td>1.100000</td>\n",
       "      <td>93.749000</td>\n",
       "      <td>-41.800000</td>\n",
       "      <td>4.857000</td>\n",
       "      <td>5191.000000</td>\n",
       "    </tr>\n",
       "    <tr>\n",
       "      <th>75%</th>\n",
       "      <td>47.000000</td>\n",
       "      <td>317.000000</td>\n",
       "      <td>3.000000</td>\n",
       "      <td>999.000000</td>\n",
       "      <td>0.000000</td>\n",
       "      <td>1.400000</td>\n",
       "      <td>93.994000</td>\n",
       "      <td>-36.400000</td>\n",
       "      <td>4.961000</td>\n",
       "      <td>5228.100000</td>\n",
       "    </tr>\n",
       "    <tr>\n",
       "      <th>max</th>\n",
       "      <td>88.000000</td>\n",
       "      <td>3643.000000</td>\n",
       "      <td>35.000000</td>\n",
       "      <td>999.000000</td>\n",
       "      <td>6.000000</td>\n",
       "      <td>1.400000</td>\n",
       "      <td>94.767000</td>\n",
       "      <td>-26.900000</td>\n",
       "      <td>5.045000</td>\n",
       "      <td>5228.100000</td>\n",
       "    </tr>\n",
       "  </tbody>\n",
       "</table>\n",
       "</div>\n",
       "      <button class=\"colab-df-convert\" onclick=\"convertToInteractive('df-7ae1c3e0-cb13-4f16-aa13-62f67861b655')\"\n",
       "              title=\"Convert this dataframe to an interactive table.\"\n",
       "              style=\"display:none;\">\n",
       "        \n",
       "  <svg xmlns=\"http://www.w3.org/2000/svg\" height=\"24px\"viewBox=\"0 0 24 24\"\n",
       "       width=\"24px\">\n",
       "    <path d=\"M0 0h24v24H0V0z\" fill=\"none\"/>\n",
       "    <path d=\"M18.56 5.44l.94 2.06.94-2.06 2.06-.94-2.06-.94-.94-2.06-.94 2.06-2.06.94zm-11 1L8.5 8.5l.94-2.06 2.06-.94-2.06-.94L8.5 2.5l-.94 2.06-2.06.94zm10 10l.94 2.06.94-2.06 2.06-.94-2.06-.94-.94-2.06-.94 2.06-2.06.94z\"/><path d=\"M17.41 7.96l-1.37-1.37c-.4-.4-.92-.59-1.43-.59-.52 0-1.04.2-1.43.59L10.3 9.45l-7.72 7.72c-.78.78-.78 2.05 0 2.83L4 21.41c.39.39.9.59 1.41.59.51 0 1.02-.2 1.41-.59l7.78-7.78 2.81-2.81c.8-.78.8-2.07 0-2.86zM5.41 20L4 18.59l7.72-7.72 1.47 1.35L5.41 20z\"/>\n",
       "  </svg>\n",
       "      </button>\n",
       "      \n",
       "  <style>\n",
       "    .colab-df-container {\n",
       "      display:flex;\n",
       "      flex-wrap:wrap;\n",
       "      gap: 12px;\n",
       "    }\n",
       "\n",
       "    .colab-df-convert {\n",
       "      background-color: #E8F0FE;\n",
       "      border: none;\n",
       "      border-radius: 50%;\n",
       "      cursor: pointer;\n",
       "      display: none;\n",
       "      fill: #1967D2;\n",
       "      height: 32px;\n",
       "      padding: 0 0 0 0;\n",
       "      width: 32px;\n",
       "    }\n",
       "\n",
       "    .colab-df-convert:hover {\n",
       "      background-color: #E2EBFA;\n",
       "      box-shadow: 0px 1px 2px rgba(60, 64, 67, 0.3), 0px 1px 3px 1px rgba(60, 64, 67, 0.15);\n",
       "      fill: #174EA6;\n",
       "    }\n",
       "\n",
       "    [theme=dark] .colab-df-convert {\n",
       "      background-color: #3B4455;\n",
       "      fill: #D2E3FC;\n",
       "    }\n",
       "\n",
       "    [theme=dark] .colab-df-convert:hover {\n",
       "      background-color: #434B5C;\n",
       "      box-shadow: 0px 1px 3px 1px rgba(0, 0, 0, 0.15);\n",
       "      filter: drop-shadow(0px 1px 2px rgba(0, 0, 0, 0.3));\n",
       "      fill: #FFFFFF;\n",
       "    }\n",
       "  </style>\n",
       "\n",
       "      <script>\n",
       "        const buttonEl =\n",
       "          document.querySelector('#df-7ae1c3e0-cb13-4f16-aa13-62f67861b655 button.colab-df-convert');\n",
       "        buttonEl.style.display =\n",
       "          google.colab.kernel.accessAllowed ? 'block' : 'none';\n",
       "\n",
       "        async function convertToInteractive(key) {\n",
       "          const element = document.querySelector('#df-7ae1c3e0-cb13-4f16-aa13-62f67861b655');\n",
       "          const dataTable =\n",
       "            await google.colab.kernel.invokeFunction('convertToInteractive',\n",
       "                                                     [key], {});\n",
       "          if (!dataTable) return;\n",
       "\n",
       "          const docLinkHtml = 'Like what you see? Visit the ' +\n",
       "            '<a target=\"_blank\" href=https://colab.research.google.com/notebooks/data_table.ipynb>data table notebook</a>'\n",
       "            + ' to learn more about interactive tables.';\n",
       "          element.innerHTML = '';\n",
       "          dataTable['output_type'] = 'display_data';\n",
       "          await google.colab.output.renderOutput(dataTable, element);\n",
       "          const docLink = document.createElement('div');\n",
       "          docLink.innerHTML = docLinkHtml;\n",
       "          element.appendChild(docLink);\n",
       "        }\n",
       "      </script>\n",
       "    </div>\n",
       "  </div>\n",
       "  "
      ],
      "text/plain": [
       "               age     duration     campaign        pdays     previous  \\\n",
       "count  4119.000000  4119.000000  4119.000000  4119.000000  4119.000000   \n",
       "mean     40.113620   256.788055     2.537266   960.422190     0.190337   \n",
       "std      10.313362   254.703736     2.568159   191.922786     0.541788   \n",
       "min      18.000000     0.000000     1.000000     0.000000     0.000000   \n",
       "25%      32.000000   103.000000     1.000000   999.000000     0.000000   \n",
       "50%      38.000000   181.000000     2.000000   999.000000     0.000000   \n",
       "75%      47.000000   317.000000     3.000000   999.000000     0.000000   \n",
       "max      88.000000  3643.000000    35.000000   999.000000     6.000000   \n",
       "\n",
       "       emp.var.rate  cons.price.idx  cons.conf.idx    euribor3m  nr.employed  \n",
       "count   4119.000000     4119.000000    4119.000000  4119.000000  4119.000000  \n",
       "mean       0.084972       93.579704     -40.499102     3.621356  5166.481695  \n",
       "std        1.563114        0.579349       4.594578     1.733591    73.667904  \n",
       "min       -3.400000       92.201000     -50.800000     0.635000  4963.600000  \n",
       "25%       -1.800000       93.075000     -42.700000     1.334000  5099.100000  \n",
       "50%        1.100000       93.749000     -41.800000     4.857000  5191.000000  \n",
       "75%        1.400000       93.994000     -36.400000     4.961000  5228.100000  \n",
       "max        1.400000       94.767000     -26.900000     5.045000  5228.100000  "
      ]
     },
     "execution_count": 4,
     "metadata": {},
     "output_type": "execute_result"
    }
   ],
   "source": [
    "df.describe()"
   ]
  },
  {
   "cell_type": "markdown",
   "metadata": {
    "id": "DLRdM_hryiGn"
   },
   "source": [
    "###Завдання 4"
   ]
  },
  {
   "cell_type": "code",
   "execution_count": null,
   "metadata": {
    "colab": {
     "base_uri": "https://localhost:8080/"
    },
    "executionInfo": {
     "elapsed": 292,
     "status": "ok",
     "timestamp": 1667215081412,
     "user": {
      "displayName": "Вадім Миценко",
      "userId": "11968395235538177405"
     },
     "user_tz": -120
    },
    "id": "zvV0jkVpykED",
    "outputId": "c3e0cd60-e53b-47fa-906d-cf04ef018b45"
   },
   "outputs": [
    {
     "data": {
      "text/plain": [
       "array(['blue-collar', 'services', 'admin.', 'entrepreneur',\n",
       "       'self-employed', 'technician', 'management', 'student', 'retired',\n",
       "       'housemaid', 'unemployed', 'unknown'], dtype=object)"
      ]
     },
     "execution_count": 5,
     "metadata": {},
     "output_type": "execute_result"
    }
   ],
   "source": [
    "df.job.unique()"
   ]
  },
  {
   "cell_type": "code",
   "execution_count": null,
   "metadata": {
    "colab": {
     "base_uri": "https://localhost:8080/"
    },
    "executionInfo": {
     "elapsed": 296,
     "status": "ok",
     "timestamp": 1667215083513,
     "user": {
      "displayName": "Вадім Миценко",
      "userId": "11968395235538177405"
     },
     "user_tz": -120
    },
    "id": "ya00m7OIypCn",
    "outputId": "885bed9a-57c3-4b55-9da9-0a7061d643f8"
   },
   "outputs": [
    {
     "data": {
      "text/plain": [
       "admin.           1012\n",
       "blue-collar       884\n",
       "technician        691\n",
       "services          393\n",
       "management        324\n",
       "retired           166\n",
       "self-employed     159\n",
       "entrepreneur      148\n",
       "unemployed        111\n",
       "housemaid         110\n",
       "student            82\n",
       "unknown            39\n",
       "Name: job, dtype: int64"
      ]
     },
     "execution_count": 6,
     "metadata": {},
     "output_type": "execute_result"
    }
   ],
   "source": [
    "dfvc = df.job.value_counts()\n",
    "dfvc"
   ]
  },
  {
   "cell_type": "code",
   "execution_count": null,
   "metadata": {
    "colab": {
     "base_uri": "https://localhost:8080/",
     "height": 343
    },
    "executionInfo": {
     "elapsed": 693,
     "status": "ok",
     "timestamp": 1667215090984,
     "user": {
      "displayName": "Вадім Миценко",
      "userId": "11968395235538177405"
     },
     "user_tz": -120
    },
    "id": "e8-Gj98Cyvsu",
    "outputId": "a8c6d945-1a05-444a-9702-fada21cc04ce"
   },
   "outputs": [
    {
     "data": {
      "text/plain": [
       "<matplotlib.axes._subplots.AxesSubplot at 0x7fbd249cb190>"
      ]
     },
     "execution_count": 7,
     "metadata": {},
     "output_type": "execute_result"
    },
    {
     "data": {
      "image/png": "[encoded data removed]",
      "text/plain": [
       "<Figure size 432x288 with 1 Axes>"
      ]
     },
     "metadata": {
      "needs_background": "light"
     },
     "output_type": "display_data"
    }
   ],
   "source": [
    "dfvc.plot.bar()"
   ]
  },
  {
   "cell_type": "code",
   "execution_count": null,
   "metadata": {
    "colab": {
     "base_uri": "https://localhost:8080/",
     "height": 339
    },
    "executionInfo": {
     "elapsed": 300,
     "status": "ok",
     "timestamp": 1667215092984,
     "user": {
      "displayName": "Вадім Миценко",
      "userId": "11968395235538177405"
     },
     "user_tz": -120
    },
    "id": "0fnlOyGdzBCP",
    "outputId": "b19202d3-cc3d-48cc-b749-4ab720f10034"
   },
   "outputs": [
    {
     "data": {
      "image/png": "[encoded data removed]",
      "text/plain": [
       "<Figure size 432x288 with 1 Axes>"
      ]
     },
     "metadata": {
      "needs_background": "light"
     },
     "output_type": "display_data"
    }
   ],
   "source": [
    "sns.countplot(x = \"job\", data = df)\n",
    "plt.xticks(rotation = 70);"
   ]
  },
  {
   "cell_type": "markdown",
   "metadata": {
    "id": "U2jge549z9Bp"
   },
   "source": [
    "###Завдання 5"
   ]
  },
  {
   "cell_type": "code",
   "execution_count": null,
   "metadata": {
    "colab": {
     "base_uri": "https://localhost:8080/"
    },
    "executionInfo": {
     "elapsed": 6,
     "status": "ok",
     "timestamp": 1667215095294,
     "user": {
      "displayName": "Вадім Миценко",
      "userId": "11968395235538177405"
     },
     "user_tz": -120
    },
    "id": "LIwHW72az_Ae",
    "outputId": "13ffb73e-9352-4ca6-f236-98af41bbb234"
   },
   "outputs": [
    {
     "data": {
      "text/plain": [
       "array(['no', 'yes'], dtype=object)"
      ]
     },
     "execution_count": 9,
     "metadata": {},
     "output_type": "execute_result"
    }
   ],
   "source": [
    "df.y.unique()"
   ]
  },
  {
   "cell_type": "code",
   "execution_count": null,
   "metadata": {
    "colab": {
     "base_uri": "https://localhost:8080/"
    },
    "executionInfo": {
     "elapsed": 279,
     "status": "ok",
     "timestamp": 1667215097640,
     "user": {
      "displayName": "Вадім Миценко",
      "userId": "11968395235538177405"
     },
     "user_tz": -120
    },
    "id": "q4BPxOjb0Lwf",
    "outputId": "219ab8b6-bb9a-4080-b782-38ddaca09554"
   },
   "outputs": [
    {
     "data": {
      "text/plain": [
       "no     3668\n",
       "yes     451\n",
       "Name: y, dtype: int64"
      ]
     },
     "execution_count": 10,
     "metadata": {},
     "output_type": "execute_result"
    }
   ],
   "source": [
    "dfy = df.y.value_counts()\n",
    "dfy"
   ]
  },
  {
   "cell_type": "code",
   "execution_count": null,
   "metadata": {
    "colab": {
     "base_uri": "https://localhost:8080/",
     "height": 290
    },
    "executionInfo": {
     "elapsed": 11,
     "status": "ok",
     "timestamp": 1667215098883,
     "user": {
      "displayName": "Вадім Миценко",
      "userId": "11968395235538177405"
     },
     "user_tz": -120
    },
    "id": "siVFcDs20YJw",
    "outputId": "a011b76e-0263-458c-c0d2-3722452eae79"
   },
   "outputs": [
    {
     "data": {
      "text/plain": [
       "<matplotlib.axes._subplots.AxesSubplot at 0x7fbd243b48d0>"
      ]
     },
     "execution_count": 11,
     "metadata": {},
     "output_type": "execute_result"
    },
    {
     "data": {
      "image/png": "[encoded data removed]",
      "text/plain": [
       "<Figure size 432x288 with 1 Axes>"
      ]
     },
     "metadata": {
      "needs_background": "light"
     },
     "output_type": "display_data"
    }
   ],
   "source": [
    "dfy.plot.bar()\n"
   ]
  },
  {
   "cell_type": "code",
   "execution_count": null,
   "metadata": {
    "colab": {
     "base_uri": "https://localhost:8080/",
     "height": 296
    },
    "executionInfo": {
     "elapsed": 302,
     "status": "ok",
     "timestamp": 1667215108054,
     "user": {
      "displayName": "Вадім Миценко",
      "userId": "11968395235538177405"
     },
     "user_tz": -120
    },
    "id": "Tn-e7SMT0edD",
    "outputId": "ba9f1ce8-9857-4d9e-f8f7-9bafee5aa40f"
   },
   "outputs": [
    {
     "data": {
      "text/plain": [
       "<matplotlib.axes._subplots.AxesSubplot at 0x7fbd2438db50>"
      ]
     },
     "execution_count": 12,
     "metadata": {},
     "output_type": "execute_result"
    },
    {
     "data": {
      "image/png": "[encoded data removed]",
      "text/plain": [
       "<Figure size 432x288 with 1 Axes>"
      ]
     },
     "metadata": {
      "needs_background": "light"
     },
     "output_type": "display_data"
    }
   ],
   "source": [
    "sns.countplot(x = 'y', data = df)"
   ]
  },
  {
   "cell_type": "code",
   "execution_count": 13,
   "metadata": {
    "colab": {
     "base_uri": "https://localhost:8080/"
    },
    "executionInfo": {
     "elapsed": 273,
     "status": "ok",
     "timestamp": 1667215139188,
     "user": {
      "displayName": "Вадім Миценко",
      "userId": "11968395235538177405"
     },
     "user_tz": -120
    },
    "id": "MYRC1CkR045d",
    "outputId": "4c002101-5814-46d4-91ab-df56e1124309"
   },
   "outputs": [
    {
     "name": "stdout",
     "output_type": "stream",
     "text": [
      "Відсоток людей, які погодились рідписати депозит:\n"
     ]
    },
    {
     "data": {
      "text/plain": [
       "10.949259529011895"
      ]
     },
     "execution_count": 13,
     "metadata": {},
     "output_type": "execute_result"
    }
   ],
   "source": [
    "print(\"Відсоток людей, які погодились рідписати депозит:\")\n",
    "df.y[df.y == 'yes'].count() / df.y.count() * 100"
   ]
  },
  {
   "cell_type": "markdown",
   "metadata": {
    "id": "bzhkMJFi1Rul"
   },
   "source": [
    "###Завдання 6"
   ]
  },
  {
   "cell_type": "code",
   "execution_count": 14,
   "metadata": {
    "colab": {
     "base_uri": "https://localhost:8080/",
     "height": 296
    },
    "executionInfo": {
     "elapsed": 974,
     "status": "ok",
     "timestamp": 1667215142902,
     "user": {
      "displayName": "Вадім Миценко",
      "userId": "11968395235538177405"
     },
     "user_tz": -120
    },
    "id": "OH6INLX31VVE",
    "outputId": "7f747ad3-2e62-4a95-e9c5-60174108e4e4"
   },
   "outputs": [
    {
     "data": {
      "text/plain": [
       "<matplotlib.axes._subplots.AxesSubplot at 0x7fbd24302e90>"
      ]
     },
     "execution_count": 14,
     "metadata": {},
     "output_type": "execute_result"
    },
    {
     "data": {
      "image/png": "[encoded data removed]",
      "text/plain": [
       "<Figure size 432x288 with 1 Axes>"
      ]
     },
     "metadata": {
      "needs_background": "light"
     },
     "output_type": "display_data"
    }
   ],
   "source": [
    "sns.histplot(x = \"age\", data = df, binwidth = 5, binrange = [15, 90], kde = True, stat = \"count\")"
   ]
  },
  {
   "cell_type": "code",
   "execution_count": 15,
   "metadata": {
    "colab": {
     "base_uri": "https://localhost:8080/",
     "height": 296
    },
    "executionInfo": {
     "elapsed": 497,
     "status": "ok",
     "timestamp": 1667215144545,
     "user": {
      "displayName": "Вадім Миценко",
      "userId": "11968395235538177405"
     },
     "user_tz": -120
    },
    "id": "bfWI3Bjx2l-w",
    "outputId": "30fb6f79-0f1b-4c8a-a10d-acbf6aaf0f6f"
   },
   "outputs": [
    {
     "data": {
      "text/plain": [
       "<matplotlib.axes._subplots.AxesSubplot at 0x7fbd242475d0>"
      ]
     },
     "execution_count": 15,
     "metadata": {},
     "output_type": "execute_result"
    },
    {
     "data": {
      "image/png": "[encoded data removed]",
      "text/plain": [
       "<Figure size 432x288 with 1 Axes>"
      ]
     },
     "metadata": {
      "needs_background": "light"
     },
     "output_type": "display_data"
    }
   ],
   "source": [
    "sns.histplot(x = \"age\", data = df, binwidth = 5, binrange = [15, 90], kde = True, stat = \"frequency\")"
   ]
  },
  {
   "cell_type": "code",
   "execution_count": 16,
   "metadata": {
    "colab": {
     "base_uri": "https://localhost:8080/",
     "height": 296
    },
    "executionInfo": {
     "elapsed": 1196,
     "status": "ok",
     "timestamp": 1667215146810,
     "user": {
      "displayName": "Вадім Миценко",
      "userId": "11968395235538177405"
     },
     "user_tz": -120
    },
    "id": "-6W2We1F4Jj6",
    "outputId": "946b676d-2e1b-4fda-94c6-61075d26d5a4"
   },
   "outputs": [
    {
     "data": {
      "text/plain": [
       "<matplotlib.axes._subplots.AxesSubplot at 0x7fbd2417bed0>"
      ]
     },
     "execution_count": 16,
     "metadata": {},
     "output_type": "execute_result"
    },
    {
     "data": {
      "image/png": "[encoded data removed]",
      "text/plain": [
       "<Figure size 432x288 with 1 Axes>"
      ]
     },
     "metadata": {
      "needs_background": "light"
     },
     "output_type": "display_data"
    }
   ],
   "source": [
    "sns.histplot(x = \"age\", data = df, binwidth = 6, binrange = [18, 88], kde = True, stat = \"probability\")"
   ]
  },
  {
   "cell_type": "code",
   "execution_count": 17,
   "metadata": {
    "colab": {
     "base_uri": "https://localhost:8080/",
     "height": 296
    },
    "executionInfo": {
     "elapsed": 631,
     "status": "ok",
     "timestamp": 1667215148058,
     "user": {
      "displayName": "Вадім Миценко",
      "userId": "11968395235538177405"
     },
     "user_tz": -120
    },
    "id": "bGQMjLV74Ugo",
    "outputId": "3013f575-37d7-4739-c22f-4ef9744a52f8"
   },
   "outputs": [
    {
     "data": {
      "text/plain": [
       "<matplotlib.axes._subplots.AxesSubplot at 0x7fbd24113710>"
      ]
     },
     "execution_count": 17,
     "metadata": {},
     "output_type": "execute_result"
    },
    {
     "data": {
      "image/png": "[encoded data removed]",
      "text/plain": [
       "<Figure size 432x288 with 1 Axes>"
      ]
     },
     "metadata": {
      "needs_background": "light"
     },
     "output_type": "display_data"
    }
   ],
   "source": [
    "sns.histplot(x = \"age\", data = df, binwidth = 6, binrange = [18, 88], kde = True, stat = \"percent\")"
   ]
  },
  {
   "cell_type": "code",
   "execution_count": 18,
   "metadata": {
    "colab": {
     "base_uri": "https://localhost:8080/",
     "height": 296
    },
    "executionInfo": {
     "elapsed": 801,
     "status": "ok",
     "timestamp": 1667215149800,
     "user": {
      "displayName": "Вадім Миценко",
      "userId": "11968395235538177405"
     },
     "user_tz": -120
    },
    "id": "Kmrwmgsy4wpo",
    "outputId": "a2976481-d2f8-4312-a9b3-72da2593a07c"
   },
   "outputs": [
    {
     "data": {
      "text/plain": [
       "<matplotlib.axes._subplots.AxesSubplot at 0x7fbd24025650>"
      ]
     },
     "execution_count": 18,
     "metadata": {},
     "output_type": "execute_result"
    },
    {
     "data": {
      "image/png": "[encoded data removed]",
      "text/plain": [
       "<Figure size 432x288 with 1 Axes>"
      ]
     },
     "metadata": {
      "needs_background": "light"
     },
     "output_type": "display_data"
    }
   ],
   "source": [
    "sns.histplot(x = \"age\", data = df, binwidth = 6, binrange = [18, 88], kde = True, stat = \"density\")"
   ]
  },
  {
   "cell_type": "markdown",
   "metadata": {
    "id": "FWUeVUss6xIo"
   },
   "source": [
    "###Завдання 7"
   ]
  },
  {
   "cell_type": "code",
   "execution_count": 20,
   "metadata": {
    "colab": {
     "base_uri": "https://localhost:8080/"
    },
    "executionInfo": {
     "elapsed": 288,
     "status": "ok",
     "timestamp": 1667216236755,
     "user": {
      "displayName": "Вадім Миценко",
      "userId": "11968395235538177405"
     },
     "user_tz": -120
    },
    "id": "0pGlrj466z5U",
    "outputId": "00c5f75f-b3fb-4401-96e8-30a7b4a30d67"
   },
   "outputs": [
    {
     "data": {
      "text/plain": [
       "marital   y  \n",
       "married   no     2257\n",
       "single    no      998\n",
       "divorced  no      403\n",
       "married   yes     252\n",
       "single    yes     155\n",
       "divorced  yes      43\n",
       "unknown   no       10\n",
       "          yes       1\n",
       "dtype: int64"
      ]
     },
     "execution_count": 20,
     "metadata": {},
     "output_type": "execute_result"
    }
   ],
   "source": [
    "df.loc[:, ['marital', 'y']].value_counts()"
   ]
  },
  {
   "cell_type": "code",
   "execution_count": 21,
   "metadata": {
    "colab": {
     "base_uri": "https://localhost:8080/"
    },
    "executionInfo": {
     "elapsed": 5,
     "status": "ok",
     "timestamp": 1667216267745,
     "user": {
      "displayName": "Вадім Миценко",
      "userId": "11968395235538177405"
     },
     "user_tz": -120
    },
    "id": "FzNar-nJFXR4",
    "outputId": "72bcf992-04b2-430b-f555-dcf9e85be69f"
   },
   "outputs": [
    {
     "data": {
      "text/plain": [
       "10.0438421681945"
      ]
     },
     "execution_count": 21,
     "metadata": {},
     "output_type": "execute_result"
    }
   ],
   "source": [
    "df.marital[(df.y == 'yes') & (df.marital == 'married')].count() / df.marital[(df.marital == 'married')].count() * 100\n"
   ]
  },
  {
   "cell_type": "code",
   "execution_count": 22,
   "metadata": {
    "colab": {
     "base_uri": "https://localhost:8080/"
    },
    "executionInfo": {
     "elapsed": 4,
     "status": "ok",
     "timestamp": 1667216287872,
     "user": {
      "displayName": "Вадім Миценко",
      "userId": "11968395235538177405"
     },
     "user_tz": -120
    },
    "id": "iuPyynqj1WJu",
    "outputId": "0e188f6d-41ec-43ab-eef6-ba4cf574bdef"
   },
   "outputs": [
    {
     "data": {
      "text/plain": [
       "9.534368070953436"
      ]
     },
     "execution_count": 22,
     "metadata": {},
     "output_type": "execute_result"
    }
   ],
   "source": [
    "df.marital[(df.y == 'yes') & (df.marital == 'divorced')].count() / df.marital[(df.y == 'yes')].count() * 100"
   ]
  },
  {
   "cell_type": "code",
   "execution_count": 23,
   "metadata": {
    "colab": {
     "base_uri": "https://localhost:8080/"
    },
    "executionInfo": {
     "elapsed": 3,
     "status": "ok",
     "timestamp": 1667216288219,
     "user": {
      "displayName": "Вадім Миценко",
      "userId": "11968395235538177405"
     },
     "user_tz": -120
    },
    "id": "0wSe-VMJ1WlE",
    "outputId": "890908f2-ff8a-427b-9d39-5fe1f6f660de"
   },
   "outputs": [
    {
     "data": {
      "text/plain": [
       "3.7630492838067493"
      ]
     },
     "execution_count": 23,
     "metadata": {},
     "output_type": "execute_result"
    }
   ],
   "source": [
    "df.marital[(df.y == 'yes') & (df.marital == 'single')].count() / df.y.count() * 100"
   ]
  },
  {
   "cell_type": "markdown",
   "metadata": {
    "id": "DuDuBxAX1baz"
   },
   "source": [
    "###Завдання 8"
   ]
  },
  {
   "cell_type": "code",
   "execution_count": 25,
   "metadata": {
    "colab": {
     "base_uri": "https://localhost:8080/"
    },
    "executionInfo": {
     "elapsed": 279,
     "status": "ok",
     "timestamp": 1667218617220,
     "user": {
      "displayName": "Вадім Миценко",
      "userId": "11968395235538177405"
     },
     "user_tz": -120
    },
    "id": "F9CJABJY1d4H",
    "outputId": "c0bb49e4-292e-492f-c48f-2250c2bc61b9"
   },
   "outputs": [
    {
     "name": "stdout",
     "output_type": "stream",
     "text": [
      "unknown                15.568862\n",
      "university.degree      13.053797\n",
      "professional.course    12.149533\n",
      "high.school            10.532030\n",
      "basic.4y                8.857809\n",
      "basic.9y                7.491289\n",
      "basic.6y                7.456140\n",
      "illiterate                   NaN\n",
      "Name: education, dtype: float64\n",
      "Максимальна ймовірність серед всіх професій:  unknown = 15.568862275449103 %\n"
     ]
    }
   ],
   "source": [
    "education = (df.education[(df.y == 'yes')].value_counts() / df.education.value_counts())* 100\n",
    "print(education.sort_values(ascending = False))\n",
    "print(\"Максимальна ймовірність серед всіх професій: \", education.index[education.argmax()],\"=\",education.iloc[education.argmax()],\"%\")"
   ]
  },
  {
   "cell_type": "markdown",
   "metadata": {
    "id": "0hlSmDa4-fti"
   },
   "source": [
    "###Завдання 9"
   ]
  },
  {
   "cell_type": "code",
   "execution_count": 26,
   "metadata": {
    "colab": {
     "base_uri": "https://localhost:8080/"
    },
    "executionInfo": {
     "elapsed": 259,
     "status": "ok",
     "timestamp": 1667218740257,
     "user": {
      "displayName": "Вадім Миценко",
      "userId": "11968395235538177405"
     },
     "user_tz": -120
    },
    "id": "n_tyJqy0-iBO",
    "outputId": "5c04d549-f681-4b4e-f822-eb31a6ba3f44"
   },
   "outputs": [
    {
     "name": "stdout",
     "output_type": "stream",
     "text": [
      "failure        14.757709\n",
      "nonexistent     8.288391\n",
      "success        64.788732\n",
      "Name: poutcome, dtype: float64\n"
     ]
    }
   ],
   "source": [
    "print((df.poutcome[(df.y == 'yes')].value_counts() / df.poutcome.value_counts())* 100)"
   ]
  },
  {
   "cell_type": "markdown",
   "metadata": {
    "id": "8DgHpFNQ-2hJ"
   },
   "source": [
    "###Завдання 10"
   ]
  },
  {
   "cell_type": "code",
   "execution_count": 27,
   "metadata": {
    "colab": {
     "base_uri": "https://localhost:8080/",
     "height": 339
    },
    "executionInfo": {
     "elapsed": 705,
     "status": "ok",
     "timestamp": 1667218813412,
     "user": {
      "displayName": "Вадім Миценко",
      "userId": "11968395235538177405"
     },
     "user_tz": -120
    },
    "id": "tQO9xye1-6aF",
    "outputId": "547aa036-dc13-4530-d20a-6d6ff57860c5"
   },
   "outputs": [
    {
     "data": {
      "image/png": "[encoded data removed]",
      "text/plain": [
       "<Figure size 432x288 with 1 Axes>"
      ]
     },
     "metadata": {
      "needs_background": "light"
     },
     "output_type": "display_data"
    }
   ],
   "source": [
    "sns.countplot(x = \"job\", data = df, hue = \"y\")\n",
    "plt.xticks(rotation = 70);"
   ]
  },
  {
   "cell_type": "markdown",
   "metadata": {
    "id": "hVTfw8Uv_Oj9"
   },
   "source": [
    "###Завдання 11"
   ]
  },
  {
   "cell_type": "code",
   "execution_count": 28,
   "metadata": {
    "colab": {
     "base_uri": "https://localhost:8080/",
     "height": 296
    },
    "executionInfo": {
     "elapsed": 461,
     "status": "ok",
     "timestamp": 1667218882164,
     "user": {
      "displayName": "Вадім Миценко",
      "userId": "11968395235538177405"
     },
     "user_tz": -120
    },
    "id": "-8jFGrXG_MWp",
    "outputId": "9e772cae-d135-4ab8-a771-7512357088c2"
   },
   "outputs": [
    {
     "data": {
      "text/plain": [
       "<matplotlib.axes._subplots.AxesSubplot at 0x7fbd23477ed0>"
      ]
     },
     "execution_count": 28,
     "metadata": {},
     "output_type": "execute_result"
    },
    {
     "data": {
      "image/png": "[encoded data removed]",
      "text/plain": [
       "<Figure size 432x288 with 1 Axes>"
      ]
     },
     "metadata": {
      "needs_background": "light"
     },
     "output_type": "display_data"
    }
   ],
   "source": [
    "sns.countplot(x = \"poutcome\", data = df, hue = \"y\")"
   ]
  },
  {
   "cell_type": "code",
   "execution_count": 29,
   "metadata": {
    "colab": {
     "base_uri": "https://localhost:8080/",
     "height": 296
    },
    "executionInfo": {
     "elapsed": 815,
     "status": "ok",
     "timestamp": 1667218990109,
     "user": {
      "displayName": "Вадім Миценко",
      "userId": "11968395235538177405"
     },
     "user_tz": -120
    },
    "id": "JV1mzww9_tBY",
    "outputId": "60937929-19be-46a4-f611-f00d9373338e"
   },
   "outputs": [
    {
     "data": {
      "text/plain": [
       "<matplotlib.axes._subplots.AxesSubplot at 0x7fbd232a4b90>"
      ]
     },
     "execution_count": 29,
     "metadata": {},
     "output_type": "execute_result"
    },
    {
     "data": {
      "image/png": "[encoded data removed]",
      "text/plain": [
       "<Figure size 432x288 with 1 Axes>"
      ]
     },
     "metadata": {
      "needs_background": "light"
     },
     "output_type": "display_data"
    }
   ],
   "source": [
    "sns.countplot(x = \"y\", data = df, hue = \"poutcome\")"
   ]
  },
  {
   "cell_type": "markdown",
   "metadata": {
    "id": "fglvklN7AD73"
   },
   "source": [
    "###Завдання12"
   ]
  },
  {
   "cell_type": "code",
   "execution_count": 35,
   "metadata": {
    "colab": {
     "base_uri": "https://localhost:8080/",
     "height": 296
    },
    "executionInfo": {
     "elapsed": 802,
     "status": "ok",
     "timestamp": 1667220212172,
     "user": {
      "displayName": "Вадім Миценко",
      "userId": "11968395235538177405"
     },
     "user_tz": -120
    },
    "id": "FQDfu1zIAGxE",
    "outputId": "c1f92438-2ece-4dd9-e226-478fe830481b"
   },
   "outputs": [
    {
     "data": {
      "text/plain": [
       "<matplotlib.axes._subplots.AxesSubplot at 0x7fbd2065c110>"
      ]
     },
     "execution_count": 35,
     "metadata": {},
     "output_type": "execute_result"
    },
    {
     "data": {
      "image/png": "[encoded data removed]",
      "text/plain": [
       "<Figure size 432x288 with 1 Axes>"
      ]
     },
     "metadata": {
      "needs_background": "light"
     },
     "output_type": "display_data"
    }
   ],
   "source": [
    "sns.histplot(x = \"age\", data = df, hue = \"y\", stat = \"density\", common_norm = True)"
   ]
  },
  {
   "cell_type": "code",
   "execution_count": 31,
   "metadata": {
    "colab": {
     "base_uri": "https://localhost:8080/",
     "height": 296
    },
    "executionInfo": {
     "elapsed": 855,
     "status": "ok",
     "timestamp": 1667219106280,
     "user": {
      "displayName": "Вадім Миценко",
      "userId": "11968395235538177405"
     },
     "user_tz": -120
    },
    "id": "Dw3eZVGIAIh8",
    "outputId": "eab8cde3-c96b-4b28-e172-4539a10561a8"
   },
   "outputs": [
    {
     "data": {
      "text/plain": [
       "<matplotlib.axes._subplots.AxesSubplot at 0x7fbd24415590>"
      ]
     },
     "execution_count": 31,
     "metadata": {},
     "output_type": "execute_result"
    },
    {
     "data": {
      "image/png": "[encoded data removed]",
      "text/plain": [
       "<Figure size 432x288 with 1 Axes>"
      ]
     },
     "metadata": {
      "needs_background": "light"
     },
     "output_type": "display_data"
    }
   ],
   "source": [
    "sns.histplot(x = \"age\", data = df, hue = \"y\", stat = \"density\", common_norm = False)"
   ]
  },
  {
   "cell_type": "markdown",
   "metadata": {
    "id": "IYoK_mgmAM2t"
   },
   "source": [
    "###Завдання 13"
   ]
  },
  {
   "cell_type": "code",
   "execution_count": 37,
   "metadata": {
    "colab": {
     "base_uri": "https://localhost:8080/",
     "height": 441
    },
    "executionInfo": {
     "elapsed": 1066,
     "status": "ok",
     "timestamp": 1667220299588,
     "user": {
      "displayName": "Вадім Миценко",
      "userId": "11968395235538177405"
     },
     "user_tz": -120
    },
    "id": "30WvIRuYAJnc",
    "outputId": "8c457450-0c0f-40ec-f61c-632be56f711c"
   },
   "outputs": [
    {
     "name": "stderr",
     "output_type": "stream",
     "text": [
      "/usr/local/lib/python3.7/dist-packages/seaborn/categorical.py:3750: UserWarning: The `size` parameter has been renamed to `height`; please update your code.\n",
      "  warnings.warn(msg, UserWarning)\n"
     ]
    },
    {
     "data": {
      "text/plain": [
       "<seaborn.axisgrid.FacetGrid at 0x7fbd2424e2d0>"
      ]
     },
     "execution_count": 37,
     "metadata": {},
     "output_type": "execute_result"
    },
    {
     "data": {
      "image/png": "[encoded data removed]",
      "text/plain": [
       "<Figure size 413.25x360 with 1 Axes>"
      ]
     },
     "metadata": {
      "needs_background": "light"
     },
     "output_type": "display_data"
    }
   ],
   "source": [
    "sns.catplot(kind = 'strip', x = \"contact\", y = \"duration\", data = df, hue = \"y\", dodge = True,  size = 5)"
   ]
  },
  {
   "cell_type": "code",
   "execution_count": 33,
   "metadata": {
    "colab": {
     "base_uri": "https://localhost:8080/",
     "height": 441
    },
    "executionInfo": {
     "elapsed": 2058,
     "status": "ok",
     "timestamp": 1667219155647,
     "user": {
      "displayName": "Вадім Миценко",
      "userId": "11968395235538177405"
     },
     "user_tz": -120
    },
    "id": "rq79N56LATCl",
    "outputId": "403f5ff1-965a-4d35-a853-90acdab8036d"
   },
   "outputs": [
    {
     "name": "stderr",
     "output_type": "stream",
     "text": [
      "/usr/local/lib/python3.7/dist-packages/seaborn/categorical.py:3750: UserWarning: The `size` parameter has been renamed to `height`; please update your code.\n",
      "  warnings.warn(msg, UserWarning)\n"
     ]
    },
    {
     "data": {
      "text/plain": [
       "<seaborn.axisgrid.FacetGrid at 0x7fbd23078850>"
      ]
     },
     "execution_count": 33,
     "metadata": {},
     "output_type": "execute_result"
    },
    {
     "data": {
      "image/png": "[encoded data removed]",
      "text/plain": [
       "<Figure size 413.25x360 with 1 Axes>"
      ]
     },
     "metadata": {
      "needs_background": "light"
     },
     "output_type": "display_data"
    }
   ],
   "source": [
    "sns.catplot(kind = 'box', x = \"contact\", y = \"duration\", data = df, hue = \"y\", dodge = True,  size = 5)"
   ]
  }
 ],
 "metadata": {
  "colab": {
   "authorship_tag": "ABX9TyPvTE45jVV7ya3OrfJSgsG5",
   "provenance": []
  },
  "kernelspec": {
   "display_name": "Python 3 (ipykernel)",
   "language": "python",
   "name": "python3"
  },
  "language_info": {
   "codemirror_mode": {
    "name": "ipython",
    "version": 3
   },
   "file_extension": ".py",
   "mimetype": "text/x-python",
   "name": "python",
   "nbconvert_exporter": "python",
   "pygments_lexer": "ipython3",
   "version": "3.9.13"
  }
 },
 "nbformat": 4,
 "nbformat_minor": 4
}
