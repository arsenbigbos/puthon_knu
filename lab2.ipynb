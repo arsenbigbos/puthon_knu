{
 "cells": [
  {
   "cell_type": "markdown",
   "metadata": {
    "id": "XeT04NfH04oo"
   },
   "source": [
    "##Імпорти"
   ]
  },
  {
   "cell_type": "code",
   "execution_count": 1,
   "metadata": {
    "executionInfo": {
     "elapsed": 416,
     "status": "ok",
     "timestamp": 1664457119209,
     "user": {
      "displayName": "Вадім Миценко",
      "userId": "11968395235538177405"
     },
     "user_tz": -180
    },
    "id": "A5Xk5bT5xUQj"
   },
   "outputs": [],
   "source": [
    "import numpy as np\n",
    "import matplotlib.pyplot as plt\n",
    "plt.rcParams['figure.dpi'] = 100\n",
    "from math import pi"
   ]
  },
  {
   "cell_type": "markdown",
   "metadata": {
    "id": "GnEm83razVPb"
   },
   "source": [
    "##Завдання 1"
   ]
  },
  {
   "cell_type": "code",
   "execution_count": 2,
   "metadata": {
    "executionInfo": {
     "elapsed": 6,
     "status": "ok",
     "timestamp": 1664457121083,
     "user": {
      "displayName": "Вадім Миценко",
      "userId": "11968395235538177405"
     },
     "user_tz": -180
    },
    "id": "_SNCaxm-zmxn"
   },
   "outputs": [],
   "source": [
    "n = 101\n",
    "x = np.linspace(-10 * pi, 10 * pi, num = n, dtype = np.float32)"
   ]
  },
  {
   "cell_type": "markdown",
   "metadata": {
    "id": "mWLQIeNY0UGU"
   },
   "source": [
    "##Завдання 2"
   ]
  },
  {
   "cell_type": "code",
   "execution_count": 3,
   "metadata": {
    "executionInfo": {
     "elapsed": 294,
     "status": "ok",
     "timestamp": 1664459663186,
     "user": {
      "displayName": "Вадім Миценко",
      "userId": "11968395235538177405"
     },
     "user_tz": -180
    },
    "id": "MjhFdAom0WrS"
   },
   "outputs": [],
   "source": [
    "y1 = np.cos(0.005 * x ** 2)"
   ]
  },
  {
   "cell_type": "markdown",
   "metadata": {
    "id": "jne98W9001Qj"
   },
   "source": [
    "##Завдання 3"
   ]
  },
  {
   "cell_type": "code",
   "execution_count": 4,
   "metadata": {
    "executionInfo": {
     "elapsed": 437,
     "status": "ok",
     "timestamp": 1664459668166,
     "user": {
      "displayName": "Вадім Миценко",
      "userId": "11968395235538177405"
     },
     "user_tz": -180
    },
    "id": "jubqBy8g028k"
   },
   "outputs": [],
   "source": [
    "y2 = y1 * np.sin(x)"
   ]
  },
  {
   "cell_type": "markdown",
   "metadata": {
    "id": "aZXoUVQU1LAW"
   },
   "source": [
    "##Завдання 4"
   ]
  },
  {
   "cell_type": "code",
   "execution_count": 5,
   "metadata": {
    "executionInfo": {
     "elapsed": 5,
     "status": "ok",
     "timestamp": 1664457127196,
     "user": {
      "displayName": "Вадім Миценко",
      "userId": "11968395235538177405"
     },
     "user_tz": -180
    },
    "id": "p-kLL6pa1Muu"
   },
   "outputs": [],
   "source": [
    "delta_y = np.random.uniform(-0.1, 0.1, n)\n",
    "y3 = y2 + delta_y\n"
   ]
  },
  {
   "cell_type": "markdown",
   "metadata": {
    "id": "LnGtLyqQ3VE8"
   },
   "source": [
    "##Завдання 5"
   ]
  },
  {
   "cell_type": "code",
   "execution_count": 6,
   "metadata": {
    "colab": {
     "base_uri": "https://localhost:8080/"
    },
    "executionInfo": {
     "elapsed": 262,
     "status": "ok",
     "timestamp": 1664460218669,
     "user": {
      "displayName": "Вадім Миценко",
      "userId": "11968395235538177405"
     },
     "user_tz": -180
    },
    "id": "oM8krji63XZc",
    "outputId": "5e01101a-3396-4256-d4c7-9f829a768b87"
   },
   "outputs": [
    {
     "name": "stdout",
     "output_type": "stream",
     "text": [
      "float32 float32 float64\n"
     ]
    }
   ],
   "source": [
    "print(y1.dtype, y2.dtype, y3.dtype)"
   ]
  },
  {
   "cell_type": "code",
   "execution_count": 7,
   "metadata": {
    "executionInfo": {
     "elapsed": 264,
     "status": "ok",
     "timestamp": 1664460215626,
     "user": {
      "displayName": "Вадім Миценко",
      "userId": "11968395235538177405"
     },
     "user_tz": -180
    },
    "id": "X1h_SyEq4FOJ"
   },
   "outputs": [],
   "source": [
    "y3 = y3.astype(\"float32\")"
   ]
  },
  {
   "cell_type": "markdown",
   "metadata": {
    "id": "vyqwtIKj44_G"
   },
   "source": [
    "##Завдання 6"
   ]
  },
  {
   "cell_type": "code",
   "execution_count": 8,
   "metadata": {
    "colab": {
     "base_uri": "https://localhost:8080/"
    },
    "executionInfo": {
     "elapsed": 341,
     "status": "ok",
     "timestamp": 1664457161529,
     "user": {
      "displayName": "Вадім Миценко",
      "userId": "11968395235538177405"
     },
     "user_tz": -180
    },
    "id": "xtY3oLOo48Qx",
    "outputId": "922f9a20-16dc-420c-afc9-00dd24930f4d"
   },
   "outputs": [
    {
     "data": {
      "text/plain": [
       "(array([-1.7145028e-07,  5.8028823e-01,  9.4347739e-01,  9.4661129e-01,\n",
       "                   nan,            nan, -5.8749211e-01, -9.5090646e-01,\n",
       "        -9.5102692e-01, -5.8778411e-01,  0.0000000e+00,  5.8778411e-01,\n",
       "         9.5102692e-01,  9.5090646e-01,  5.8749211e-01, -8.7316351e-08,\n",
       "        -5.8630186e-01, -9.4661129e-01, -9.4347739e-01, -5.8028823e-01,\n",
       "         1.7145028e-07], dtype=float32),\n",
       " array([ 0.05181131,  0.5568146 ,  0.85582346,  0.87177485,  0.57020295,\n",
       "         0.09219418, -0.5922942 , -0.8809453 , -0.9755592 , -0.53819263,\n",
       "                nan,         nan,         nan,         nan,         nan,\n",
       "        -0.02438663, -0.5444485 , -0.89503914, -0.8714308 , -0.5243756 ,\n",
       "         0.04544334], dtype=float32))"
      ]
     },
     "execution_count": 8,
     "metadata": {},
     "output_type": "execute_result"
    }
   ],
   "source": [
    "y2[44 : 46] = np.nan\n",
    "y3[50 : 55] = np.nan\n",
    "\n",
    "y2[40 : 61], y3[40 : 61]"
   ]
  },
  {
   "cell_type": "markdown",
   "metadata": {
    "id": "2LTSD9O-6-o-"
   },
   "source": [
    "##Завдання 7"
   ]
  },
  {
   "cell_type": "code",
   "execution_count": 9,
   "metadata": {
    "colab": {
     "base_uri": "https://localhost:8080/",
     "height": 432
    },
    "executionInfo": {
     "elapsed": 1076,
     "status": "ok",
     "timestamp": 1664460282361,
     "user": {
      "displayName": "Вадім Миценко",
      "userId": "11968395235538177405"
     },
     "user_tz": -180
    },
    "id": "ZA1cDLqk7BPR",
    "outputId": "4d087708-f172-418b-8d2d-48ed7cfa9fa9"
   },
   "outputs": [
    {
     "ename": "ValueError",
     "evalue": "The number of FixedLocator locations (6), usually from a call to set_ticks, does not match the number of ticklabels (5).",
     "output_type": "error",
     "traceback": [
      "\u001b[1;31m---------------------------------------------------------------------------\u001b[0m",
      "\u001b[1;31mValueError\u001b[0m                                Traceback (most recent call last)",
      "\u001b[1;32m~\\AppData\\Local\\Temp\\ipykernel_38208\\2587862648.py\u001b[0m in \u001b[0;36m<module>\u001b[1;34m\u001b[0m\n\u001b[0;32m      6\u001b[0m \u001b[0mplt\u001b[0m\u001b[1;33m.\u001b[0m\u001b[0mylabel\u001b[0m\u001b[1;33m(\u001b[0m\u001b[1;34m'$\\t{y}$'\u001b[0m\u001b[1;33m)\u001b[0m\u001b[1;33m\u001b[0m\u001b[1;33m\u001b[0m\u001b[0m\n\u001b[0;32m      7\u001b[0m \u001b[0mplt\u001b[0m\u001b[1;33m.\u001b[0m\u001b[0mtitle\u001b[0m\u001b[1;33m(\u001b[0m\u001b[1;34m'Графіки функцій $\\pm y_1(x) = \\pm \\cos{(0.005x^{2})}$/ \\n $y_2(x) = \\cos{(0.005x^{2})}sin{(x)}$,  і \"експериментальна\" залежність $y_3(x_i)$'\u001b[0m\u001b[1;33m)\u001b[0m\u001b[1;33m\u001b[0m\u001b[1;33m\u001b[0m\u001b[0m\n\u001b[1;32m----> 8\u001b[1;33m \u001b[0mplt\u001b[0m\u001b[1;33m.\u001b[0m\u001b[0mxticks\u001b[0m\u001b[1;33m(\u001b[0m\u001b[0mnp\u001b[0m\u001b[1;33m.\u001b[0m\u001b[0marange\u001b[0m\u001b[1;33m(\u001b[0m\u001b[1;33m-\u001b[0m\u001b[1;36m10\u001b[0m \u001b[1;33m*\u001b[0m \u001b[0mpi\u001b[0m\u001b[1;33m,\u001b[0m \u001b[1;36m10\u001b[0m \u001b[1;33m*\u001b[0m \u001b[0mpi\u001b[0m \u001b[1;33m+\u001b[0m \u001b[1;36m1\u001b[0m\u001b[1;33m,\u001b[0m \u001b[1;36m16\u001b[0m \u001b[1;33m*\u001b[0m \u001b[0mpi\u001b[0m \u001b[1;33m/\u001b[0m \u001b[1;36m4\u001b[0m\u001b[1;33m)\u001b[0m\u001b[1;33m,\u001b[0m \u001b[1;33m[\u001b[0m\u001b[1;34m'$-8\\pi$'\u001b[0m\u001b[1;33m,\u001b[0m \u001b[1;34m'$-4\\pi$'\u001b[0m\u001b[1;33m,\u001b[0m \u001b[1;34m'0'\u001b[0m\u001b[1;33m,\u001b[0m \u001b[1;34m'$4\\pi$'\u001b[0m\u001b[1;33m,\u001b[0m \u001b[1;34m'$8\\pi$'\u001b[0m\u001b[1;33m]\u001b[0m\u001b[1;33m)\u001b[0m\u001b[1;33m;\u001b[0m\u001b[1;33m\u001b[0m\u001b[1;33m\u001b[0m\u001b[0m\n\u001b[0m\u001b[0;32m      9\u001b[0m \u001b[0mplt\u001b[0m\u001b[1;33m.\u001b[0m\u001b[0myticks\u001b[0m\u001b[1;33m(\u001b[0m\u001b[1;33m[\u001b[0m\u001b[1;33m-\u001b[0m\u001b[1;36m1.0\u001b[0m\u001b[1;33m,\u001b[0m \u001b[1;33m-\u001b[0m\u001b[1;36m0.5\u001b[0m\u001b[1;33m,\u001b[0m \u001b[1;36m0\u001b[0m\u001b[1;33m,\u001b[0m \u001b[1;36m0.5\u001b[0m\u001b[1;33m,\u001b[0m \u001b[1;36m1.0\u001b[0m\u001b[1;33m]\u001b[0m\u001b[1;33m)\u001b[0m\u001b[1;33m;\u001b[0m\u001b[1;33m\u001b[0m\u001b[1;33m\u001b[0m\u001b[0m\n\u001b[0;32m     10\u001b[0m \u001b[0mplt\u001b[0m\u001b[1;33m.\u001b[0m\u001b[0mlegend\u001b[0m\u001b[1;33m(\u001b[0m\u001b[1;33m(\u001b[0m\u001b[1;34m'$\\pm y_1(x)$'\u001b[0m\u001b[1;33m,\u001b[0m \u001b[1;34m'$y_2(x)$'\u001b[0m\u001b[1;33m,\u001b[0m \u001b[1;34m'$y_3(x_i)$'\u001b[0m\u001b[1;33m)\u001b[0m\u001b[1;33m,\u001b[0m\u001b[0mloc\u001b[0m \u001b[1;33m=\u001b[0m \u001b[1;36m0\u001b[0m\u001b[1;33m,\u001b[0m \u001b[0mbbox_to_anchor\u001b[0m \u001b[1;33m=\u001b[0m \u001b[1;33m(\u001b[0m\u001b[1;36m1.\u001b[0m\u001b[1;33m,\u001b[0m\u001b[1;36m0.65\u001b[0m\u001b[1;33m)\u001b[0m\u001b[1;33m)\u001b[0m\u001b[1;33m;\u001b[0m\u001b[1;33m\u001b[0m\u001b[1;33m\u001b[0m\u001b[0m\n",
      "\u001b[1;32m~\\anaconda3\\lib\\site-packages\\matplotlib\\pyplot.py\u001b[0m in \u001b[0;36mxticks\u001b[1;34m(ticks, labels, **kwargs)\u001b[0m\n\u001b[0;32m   1814\u001b[0m             \u001b[0ml\u001b[0m\u001b[1;33m.\u001b[0m\u001b[0mupdate\u001b[0m\u001b[1;33m(\u001b[0m\u001b[0mkwargs\u001b[0m\u001b[1;33m)\u001b[0m\u001b[1;33m\u001b[0m\u001b[1;33m\u001b[0m\u001b[0m\n\u001b[0;32m   1815\u001b[0m     \u001b[1;32melse\u001b[0m\u001b[1;33m:\u001b[0m\u001b[1;33m\u001b[0m\u001b[1;33m\u001b[0m\u001b[0m\n\u001b[1;32m-> 1816\u001b[1;33m         \u001b[0mlabels\u001b[0m \u001b[1;33m=\u001b[0m \u001b[0max\u001b[0m\u001b[1;33m.\u001b[0m\u001b[0mset_xticklabels\u001b[0m\u001b[1;33m(\u001b[0m\u001b[0mlabels\u001b[0m\u001b[1;33m,\u001b[0m \u001b[1;33m**\u001b[0m\u001b[0mkwargs\u001b[0m\u001b[1;33m)\u001b[0m\u001b[1;33m\u001b[0m\u001b[1;33m\u001b[0m\u001b[0m\n\u001b[0m\u001b[0;32m   1817\u001b[0m \u001b[1;33m\u001b[0m\u001b[0m\n\u001b[0;32m   1818\u001b[0m     \u001b[1;32mreturn\u001b[0m \u001b[0mlocs\u001b[0m\u001b[1;33m,\u001b[0m \u001b[0mlabels\u001b[0m\u001b[1;33m\u001b[0m\u001b[1;33m\u001b[0m\u001b[0m\n",
      "\u001b[1;32m~\\anaconda3\\lib\\site-packages\\matplotlib\\axes\\_base.py\u001b[0m in \u001b[0;36mwrapper\u001b[1;34m(self, *args, **kwargs)\u001b[0m\n\u001b[0;32m     73\u001b[0m \u001b[1;33m\u001b[0m\u001b[0m\n\u001b[0;32m     74\u001b[0m         \u001b[1;32mdef\u001b[0m \u001b[0mwrapper\u001b[0m\u001b[1;33m(\u001b[0m\u001b[0mself\u001b[0m\u001b[1;33m,\u001b[0m \u001b[1;33m*\u001b[0m\u001b[0margs\u001b[0m\u001b[1;33m,\u001b[0m \u001b[1;33m**\u001b[0m\u001b[0mkwargs\u001b[0m\u001b[1;33m)\u001b[0m\u001b[1;33m:\u001b[0m\u001b[1;33m\u001b[0m\u001b[1;33m\u001b[0m\u001b[0m\n\u001b[1;32m---> 75\u001b[1;33m             \u001b[1;32mreturn\u001b[0m \u001b[0mget_method\u001b[0m\u001b[1;33m(\u001b[0m\u001b[0mself\u001b[0m\u001b[1;33m)\u001b[0m\u001b[1;33m(\u001b[0m\u001b[1;33m*\u001b[0m\u001b[0margs\u001b[0m\u001b[1;33m,\u001b[0m \u001b[1;33m**\u001b[0m\u001b[0mkwargs\u001b[0m\u001b[1;33m)\u001b[0m\u001b[1;33m\u001b[0m\u001b[1;33m\u001b[0m\u001b[0m\n\u001b[0m\u001b[0;32m     76\u001b[0m \u001b[1;33m\u001b[0m\u001b[0m\n\u001b[0;32m     77\u001b[0m         \u001b[0mwrapper\u001b[0m\u001b[1;33m.\u001b[0m\u001b[0m__module__\u001b[0m \u001b[1;33m=\u001b[0m \u001b[0mowner\u001b[0m\u001b[1;33m.\u001b[0m\u001b[0m__module__\u001b[0m\u001b[1;33m\u001b[0m\u001b[1;33m\u001b[0m\u001b[0m\n",
      "\u001b[1;32m~\\anaconda3\\lib\\site-packages\\matplotlib\\axis.py\u001b[0m in \u001b[0;36m_set_ticklabels\u001b[1;34m(self, labels, fontdict, minor, **kwargs)\u001b[0m\n\u001b[0;32m   1796\u001b[0m         \u001b[1;32mif\u001b[0m \u001b[0mfontdict\u001b[0m \u001b[1;32mis\u001b[0m \u001b[1;32mnot\u001b[0m \u001b[1;32mNone\u001b[0m\u001b[1;33m:\u001b[0m\u001b[1;33m\u001b[0m\u001b[1;33m\u001b[0m\u001b[0m\n\u001b[0;32m   1797\u001b[0m             \u001b[0mkwargs\u001b[0m\u001b[1;33m.\u001b[0m\u001b[0mupdate\u001b[0m\u001b[1;33m(\u001b[0m\u001b[0mfontdict\u001b[0m\u001b[1;33m)\u001b[0m\u001b[1;33m\u001b[0m\u001b[1;33m\u001b[0m\u001b[0m\n\u001b[1;32m-> 1798\u001b[1;33m         \u001b[1;32mreturn\u001b[0m \u001b[0mself\u001b[0m\u001b[1;33m.\u001b[0m\u001b[0mset_ticklabels\u001b[0m\u001b[1;33m(\u001b[0m\u001b[0mlabels\u001b[0m\u001b[1;33m,\u001b[0m \u001b[0mminor\u001b[0m\u001b[1;33m=\u001b[0m\u001b[0mminor\u001b[0m\u001b[1;33m,\u001b[0m \u001b[1;33m**\u001b[0m\u001b[0mkwargs\u001b[0m\u001b[1;33m)\u001b[0m\u001b[1;33m\u001b[0m\u001b[1;33m\u001b[0m\u001b[0m\n\u001b[0m\u001b[0;32m   1799\u001b[0m \u001b[1;33m\u001b[0m\u001b[0m\n\u001b[0;32m   1800\u001b[0m     \u001b[1;32mdef\u001b[0m \u001b[0m_set_tick_locations\u001b[0m\u001b[1;33m(\u001b[0m\u001b[0mself\u001b[0m\u001b[1;33m,\u001b[0m \u001b[0mticks\u001b[0m\u001b[1;33m,\u001b[0m \u001b[1;33m*\u001b[0m\u001b[1;33m,\u001b[0m \u001b[0mminor\u001b[0m\u001b[1;33m=\u001b[0m\u001b[1;32mFalse\u001b[0m\u001b[1;33m)\u001b[0m\u001b[1;33m:\u001b[0m\u001b[1;33m\u001b[0m\u001b[1;33m\u001b[0m\u001b[0m\n",
      "\u001b[1;32m~\\anaconda3\\lib\\site-packages\\matplotlib\\axis.py\u001b[0m in \u001b[0;36mset_ticklabels\u001b[1;34m(self, ticklabels, minor, **kwargs)\u001b[0m\n\u001b[0;32m   1718\u001b[0m             \u001b[1;31m# remove all tick labels, so only error for > 0 ticklabels\u001b[0m\u001b[1;33m\u001b[0m\u001b[1;33m\u001b[0m\u001b[0m\n\u001b[0;32m   1719\u001b[0m             \u001b[1;32mif\u001b[0m \u001b[0mlen\u001b[0m\u001b[1;33m(\u001b[0m\u001b[0mlocator\u001b[0m\u001b[1;33m.\u001b[0m\u001b[0mlocs\u001b[0m\u001b[1;33m)\u001b[0m \u001b[1;33m!=\u001b[0m \u001b[0mlen\u001b[0m\u001b[1;33m(\u001b[0m\u001b[0mticklabels\u001b[0m\u001b[1;33m)\u001b[0m \u001b[1;32mand\u001b[0m \u001b[0mlen\u001b[0m\u001b[1;33m(\u001b[0m\u001b[0mticklabels\u001b[0m\u001b[1;33m)\u001b[0m \u001b[1;33m!=\u001b[0m \u001b[1;36m0\u001b[0m\u001b[1;33m:\u001b[0m\u001b[1;33m\u001b[0m\u001b[1;33m\u001b[0m\u001b[0m\n\u001b[1;32m-> 1720\u001b[1;33m                 raise ValueError(\n\u001b[0m\u001b[0;32m   1721\u001b[0m                     \u001b[1;34m\"The number of FixedLocator locations\"\u001b[0m\u001b[1;33m\u001b[0m\u001b[1;33m\u001b[0m\u001b[0m\n\u001b[0;32m   1722\u001b[0m                     \u001b[1;34mf\" ({len(locator.locs)}), usually from a call to\"\u001b[0m\u001b[1;33m\u001b[0m\u001b[1;33m\u001b[0m\u001b[0m\n",
      "\u001b[1;31mValueError\u001b[0m: The number of FixedLocator locations (6), usually from a call to set_ticks, does not match the number of ticklabels (5)."
     ]
    },
    {
     "data": {
      "image/png": "[encoded data removed]",
      "text/plain": [
       "<Figure size 640x480 with 1 Axes>"
      ]
     },
     "metadata": {},
     "output_type": "display_data"
    }
   ],
   "source": [
    "plt.plot(x, y1, color = \"blue\", ls = '--')\n",
    "plt.plot(x, y2, color = \"red\")\n",
    "plt.plot(x, y3, color = \"green\", ls = ':')\n",
    "plt.plot(x, -y1, color = \"blue\", ls = '--')\n",
    "plt.xlabel('$\\t{x}$')\n",
    "plt.ylabel('$\\t{y}$')\n",
    "plt.title('Графіки функцій $\\pm y_1(x) = \\pm \\cos{(0.005x^{2})}$/ \\n $y_2(x) = \\cos{(0.005x^{2})}sin{(x)}$,  і \"експериментальна\" залежність $y_3(x_i)$')\n",
    "plt.xticks(np.arange(-10 * pi, 10 * pi + 1, 16 * pi / 4), ['$-8\\pi$', '$-4\\pi$', '0', '$4\\pi$', '$8\\pi$']);\n",
    "plt.yticks([-1.0, -0.5, 0, 0.5, 1.0]);\n",
    "plt.legend(('$\\pm y_1(x)$', '$y_2(x)$', '$y_3(x_i)$'),loc = 0, bbox_to_anchor = (1.,0.65));\n",
    "plt.grid()"
   ]
  },
  {
   "cell_type": "markdown",
   "metadata": {
    "id": "5iX6apYTCinv"
   },
   "source": [
    "##Завдання 8"
   ]
  },
  {
   "cell_type": "code",
   "execution_count": 70,
   "metadata": {
    "colab": {
     "base_uri": "https://localhost:8080/"
    },
    "executionInfo": {
     "elapsed": 502,
     "status": "ok",
     "timestamp": 1664457174906,
     "user": {
      "displayName": "Вадім Миценко",
      "userId": "11968395235538177405"
     },
     "user_tz": -180
    },
    "id": "berL8dC9ClWm",
    "outputId": "2714d444-1c04-43c8-d6c6-8113f1419159"
   },
   "outputs": [
    {
     "name": "stdout",
     "output_type": "stream",
     "text": [
      "середнє значення:  0.5682172426071811 , медіана:  0.5671665979700494\n"
     ]
    }
   ],
   "source": [
    "bool_y3 = y3 > 0.1\n",
    "print('середнє значення: ', np.mean(y3[bool_y3]), ', медіана: ', np.median(y3[bool_y3]))"
   ]
  },
  {
   "cell_type": "markdown",
   "metadata": {
    "id": "gN02MeH2DGXm"
   },
   "source": [
    "##Завдання 9"
   ]
  },
  {
   "cell_type": "code",
   "execution_count": 71,
   "metadata": {
    "executionInfo": {
     "elapsed": 412,
     "status": "ok",
     "timestamp": 1664457179931,
     "user": {
      "displayName": "Вадім Миценко",
      "userId": "11968395235538177405"
     },
     "user_tz": -180
    },
    "id": "SANVxPuKDIWo"
   },
   "outputs": [],
   "source": [
    "np.save('x.npy', x)\n",
    "np.save('y1.npy', y1)\n",
    "np.save('y2.npy', y2)\n",
    "np.save('y3.npy', y3)"
   ]
  },
  {
   "cell_type": "markdown",
   "metadata": {
    "id": "u1xNc2MiDRgn"
   },
   "source": [
    "##Завдання 10"
   ]
  },
  {
   "cell_type": "code",
   "execution_count": 72,
   "metadata": {
    "executionInfo": {
     "elapsed": 389,
     "status": "ok",
     "timestamp": 1664457191278,
     "user": {
      "displayName": "Вадім Миценко",
      "userId": "11968395235538177405"
     },
     "user_tz": -180
    },
    "id": "RjEnluDkDU7o"
   },
   "outputs": [],
   "source": [
    "np.savez_compressed('xy.npz', x = x, y1 = y1, y2 = y2, y3 = y3)"
   ]
  },
  {
   "cell_type": "markdown",
   "metadata": {
    "id": "Ftl6Px1_EIJ3"
   },
   "source": [
    "##Завдання 11"
   ]
  },
  {
   "cell_type": "code",
   "execution_count": 73,
   "metadata": {
    "colab": {
     "base_uri": "https://localhost:8080/"
    },
    "executionInfo": {
     "elapsed": 302,
     "status": "ok",
     "timestamp": 1664457193552,
     "user": {
      "displayName": "Вадім Миценко",
      "userId": "11968395235538177405"
     },
     "user_tz": -180
    },
    "id": "MtX-eoUKEK3G",
    "outputId": "3807b01d-b95b-4c71-a4b0-288e952de2ab"
   },
   "outputs": [
    {
     "name": "stdout",
     "output_type": "stream",
     "text": [
      "True\n",
      "True\n",
      "True\n",
      "True\n"
     ]
    }
   ],
   "source": [
    "print(np.array_equal(np.load('x.npy'), x))\n",
    "print(np.array_equal(np.load('y1.npy'), y1))\n",
    "print(np.array_equal(np.load('y2.npy'), y2, equal_nan = True))\n",
    "print(np.array_equal(np.load('y3.npy'), y3, equal_nan = True))"
   ]
  },
  {
   "cell_type": "markdown",
   "metadata": {
    "id": "sypRg0bIEQoS"
   },
   "source": [
    "##Завдання 12"
   ]
  },
  {
   "cell_type": "code",
   "execution_count": 74,
   "metadata": {
    "executionInfo": {
     "elapsed": 313,
     "status": "ok",
     "timestamp": 1664457195912,
     "user": {
      "displayName": "Вадім Миценко",
      "userId": "11968395235538177405"
     },
     "user_tz": -180
    },
    "id": "WKzN8ZmnEZUy"
   },
   "outputs": [],
   "source": [
    "np.savetxt('xy.csv', np.transpose((x,y1,y2,y3)), header = 'x,y1,y2,y3', delimiter=',', comments = '')"
   ]
  },
  {
   "cell_type": "markdown",
   "metadata": {
    "id": "39UfWNXoFX7r"
   },
   "source": [
    "##Завдання 14"
   ]
  },
  {
   "cell_type": "code",
   "execution_count": 79,
   "metadata": {
    "colab": {
     "base_uri": "https://localhost:8080/"
    },
    "executionInfo": {
     "elapsed": 267,
     "status": "ok",
     "timestamp": 1664459336372,
     "user": {
      "displayName": "Вадім Миценко",
      "userId": "11968395235538177405"
     },
     "user_tz": -180
    },
    "id": "N7RsAIQIFcvA",
    "outputId": "267144f1-ccde-4825-cee5-23e990e36a06"
   },
   "outputs": [
    {
     "data": {
      "text/plain": [
       "array([[-3.14159260e+01,  2.20583901e-01,  1.22707220e-07,\n",
       "        -2.13755053e-02],\n",
       "       [-3.07876072e+01,  2.69914381e-02,  1.58651862e-02,\n",
       "         7.81583562e-02],\n",
       "       [-3.01592903e+01, -1.63734853e-01, -1.55721053e-01,\n",
       "        -1.18807457e-01],\n",
       "       [-2.95309715e+01, -3.44773412e-01, -3.27899069e-01,\n",
       "        -3.34533870e-01],\n",
       "       [-2.89026527e+01, -5.10333478e-01, -2.99966604e-01,\n",
       "        -3.07089955e-01],\n",
       "       [-2.82743340e+01, -6.55767858e-01, -4.69197197e-08,\n",
       "         2.09460407e-02],\n",
       "       [-2.76460152e+01, -7.77624190e-01,  4.57076162e-01,\n",
       "         4.44736451e-01],\n",
       "       [-2.70176964e+01, -8.73628199e-01,  8.30869913e-01,\n",
       "         7.80755579e-01],\n",
       "       [-2.63893776e+01, -9.42620039e-01,  8.96484733e-01,\n",
       "         8.65306556e-01],\n",
       "       [-2.57610588e+01, -9.84452367e-01,  5.78645825e-01,\n",
       "         6.28797472e-01],\n",
       "       [-2.51327419e+01, -9.99860883e-01,  6.99284897e-07,\n",
       "         9.41310674e-02],\n",
       "       [-2.45044231e+01, -9.90319133e-01, -5.82094610e-01,\n",
       "        -6.41752720e-01],\n",
       "       [-2.38761044e+01, -9.57885444e-01, -9.11003172e-01,\n",
       "        -8.14097822e-01],\n",
       "       [-2.32477856e+01, -9.05051768e-01, -8.60755324e-01,\n",
       "        -8.11917305e-01],\n",
       "       [-2.26194668e+01, -8.34599316e-01, -4.90564972e-01,\n",
       "        -5.83442152e-01],\n",
       "       [-2.19911480e+01, -7.49466956e-01,  4.34790820e-07,\n",
       "        -5.08554187e-03],\n",
       "       [-2.13628292e+01, -6.52634382e-01,  3.83609325e-01,\n",
       "         2.84410268e-01],\n",
       "       [-2.07345123e+01, -5.47022879e-01,  5.20249546e-01,\n",
       "         5.23161769e-01],\n",
       "       [-2.01061935e+01, -4.35414553e-01,  4.14103895e-01,\n",
       "         3.78958166e-01],\n",
       "       [-1.94778748e+01, -3.20390433e-01,  1.88320845e-01,\n",
       "         2.79772580e-01],\n",
       "       [-1.88495560e+01, -2.04284161e-01,  9.74425696e-09,\n",
       "        -2.71237548e-02],\n",
       "       [-1.82212372e+01, -8.91525894e-02, -5.24025932e-02,\n",
       "        -4.37849760e-02],\n",
       "       [-1.75929184e+01,  2.32404582e-02,  2.21029930e-02,\n",
       "         9.16358009e-02],\n",
       "       [-1.69645996e+01,  1.31426796e-01,  1.24994285e-01,\n",
       "         7.43516758e-02],\n",
       "       [-1.63362827e+01,  2.34229162e-01,  1.37676626e-01,\n",
       "         2.36598834e-01],\n",
       "       [-1.57079630e+01,  3.30747753e-01, -9.19947922e-08,\n",
       "         6.37101904e-02],\n",
       "       [-1.50796452e+01,  4.20338154e-01, -2.47068435e-01,\n",
       "        -1.99868813e-01],\n",
       "       [-1.44513264e+01,  5.02590120e-01, -4.77991581e-01,\n",
       "        -5.45446157e-01],\n",
       "       [-1.38230076e+01,  5.77300370e-01, -5.49045265e-01,\n",
       "        -5.55507720e-01],\n",
       "       [-1.31946888e+01,  6.44445062e-01, -3.78795147e-01,\n",
       "        -4.61019725e-01],\n",
       "       [-1.25663710e+01,  7.04151869e-01, -2.46235658e-07,\n",
       "        -6.62492514e-02],\n",
       "       [-1.19380522e+01,  7.56674051e-01,  4.44761783e-01,\n",
       "         5.12885869e-01],\n",
       "       [-1.13097334e+01,  8.02364230e-01,  7.63093770e-01,\n",
       "         8.04029882e-01],\n",
       "       [-1.06814146e+01,  8.41650963e-01,  8.00457478e-01,\n",
       "         8.65882039e-01],\n",
       "       [-1.00530968e+01,  8.75017762e-01,  5.14322758e-01,\n",
       "         5.95856309e-01],\n",
       "       [-9.42477798e+00,  9.02983904e-01,  2.15359499e-08,\n",
       "         5.08285053e-02],\n",
       "       [-8.79645920e+00,  9.26087558e-01, -5.44340849e-01,\n",
       "        -5.86864591e-01],\n",
       "       [-8.16814137e+00,  9.44872081e-01, -8.98626626e-01,\n",
       "        -8.76341164e-01],\n",
       "       [-7.53982258e+00,  9.59873796e-01, -9.12894309e-01,\n",
       "        -9.07114804e-01],\n",
       "       [-6.91150379e+00,  9.71612036e-01, -5.71099222e-01,\n",
       "        -5.47364831e-01],\n",
       "       [-6.28318548e+00,  9.80581343e-01, -1.71450282e-07,\n",
       "         8.35127383e-02],\n",
       "       [-5.65486670e+00,  9.87245202e-01,  5.80288231e-01,\n",
       "         5.02646804e-01],\n",
       "       [-5.02654839e+00,  9.92030859e-01,  9.43477392e-01,\n",
       "         8.54631424e-01],\n",
       "       [-4.39822960e+00,  9.95326042e-01,  9.46611285e-01,\n",
       "         8.84983480e-01],\n",
       "       [-3.76991129e+00,  9.97476220e-01,             nan,\n",
       "         5.86101055e-01],\n",
       "       [-3.14159274e+00,  9.98782635e-01,             nan,\n",
       "         7.41557851e-02],\n",
       "       [-2.51327419e+00,  9.99501288e-01, -5.87492108e-01,\n",
       "        -5.07309675e-01],\n",
       "       [-1.88495564e+00,  9.99842227e-01, -9.50906456e-01,\n",
       "        -9.31075335e-01],\n",
       "       [-1.25663710e+00,  9.99968827e-01, -9.51026917e-01,\n",
       "        -9.32143271e-01],\n",
       "       [-6.28318548e-01,  9.99998033e-01, -5.87784111e-01,\n",
       "        -5.34267843e-01],\n",
       "       [ 0.00000000e+00,  1.00000000e+00,  0.00000000e+00,\n",
       "                    nan],\n",
       "       [ 6.28318548e-01,  9.99998033e-01,  5.87784111e-01,\n",
       "                    nan],\n",
       "       [ 1.25663710e+00,  9.99968827e-01,  9.51026917e-01,\n",
       "                    nan],\n",
       "       [ 1.88495564e+00,  9.99842227e-01,  9.50906456e-01,\n",
       "                    nan],\n",
       "       [ 2.51327419e+00,  9.99501288e-01,  5.87492108e-01,\n",
       "                    nan],\n",
       "       [ 3.14159274e+00,  9.98782635e-01, -8.73163515e-08,\n",
       "         3.79717238e-02],\n",
       "       [ 3.76991129e+00,  9.97476220e-01, -5.86301863e-01,\n",
       "        -6.36543751e-01],\n",
       "       [ 4.39822960e+00,  9.95326042e-01, -9.46611285e-01,\n",
       "        -8.97670865e-01],\n",
       "       [ 5.02654839e+00,  9.92030859e-01, -9.43477392e-01,\n",
       "        -9.50890064e-01],\n",
       "       [ 5.65486670e+00,  9.87245202e-01, -5.80288231e-01,\n",
       "        -5.86489916e-01],\n",
       "       [ 6.28318548e+00,  9.80581343e-01,  1.71450282e-07,\n",
       "         1.13137746e-02],\n",
       "       [ 6.91150379e+00,  9.71612036e-01,  5.71099222e-01,\n",
       "         6.31761312e-01],\n",
       "       [ 7.53982258e+00,  9.59873796e-01,  9.12894309e-01,\n",
       "         9.33708072e-01],\n",
       "       [ 8.16814137e+00,  9.44872081e-01,  8.98626626e-01,\n",
       "         8.29268098e-01],\n",
       "       [ 8.79645920e+00,  9.26087558e-01,  5.44340849e-01,\n",
       "         5.68038106e-01],\n",
       "       [ 9.42477798e+00,  9.02983904e-01, -2.15359499e-08,\n",
       "        -5.54198101e-02],\n",
       "       [ 1.00530968e+01,  8.75017762e-01, -5.14322758e-01,\n",
       "        -5.34023225e-01],\n",
       "       [ 1.06814146e+01,  8.41650963e-01, -8.00457478e-01,\n",
       "        -8.86979878e-01],\n",
       "       [ 1.13097334e+01,  8.02364230e-01, -7.63093770e-01,\n",
       "        -7.14983225e-01],\n",
       "       [ 1.19380522e+01,  7.56674051e-01, -4.44761783e-01,\n",
       "        -4.28630412e-01],\n",
       "       [ 1.25663710e+01,  7.04151869e-01,  2.46235658e-07,\n",
       "         8.51394311e-02],\n",
       "       [ 1.31946888e+01,  6.44445062e-01,  3.78795147e-01,\n",
       "         3.31081569e-01],\n",
       "       [ 1.38230076e+01,  5.77300370e-01,  5.49045265e-01,\n",
       "         5.33795178e-01],\n",
       "       [ 1.44513264e+01,  5.02590120e-01,  4.77991581e-01,\n",
       "         5.66295087e-01],\n",
       "       [ 1.50796452e+01,  4.20338154e-01,  2.47068435e-01,\n",
       "         3.30496728e-01],\n",
       "       [ 1.57079630e+01,  3.30747753e-01,  9.19947922e-08,\n",
       "         8.88288692e-02],\n",
       "       [ 1.63362827e+01,  2.34229162e-01, -1.37676626e-01,\n",
       "        -4.35360596e-02],\n",
       "       [ 1.69645996e+01,  1.31426796e-01, -1.24994285e-01,\n",
       "        -6.82280064e-02],\n",
       "       [ 1.75929184e+01,  2.32404582e-02, -2.21029930e-02,\n",
       "         5.84600233e-02],\n",
       "       [ 1.82212372e+01, -8.91525894e-02,  5.24025932e-02,\n",
       "         1.12355024e-01],\n",
       "       [ 1.88495560e+01, -2.04284161e-01, -9.74425696e-09,\n",
       "         2.15584654e-02],\n",
       "       [ 1.94778748e+01, -3.20390433e-01, -1.88320845e-01,\n",
       "        -2.18947366e-01],\n",
       "       [ 2.01061935e+01, -4.35414553e-01, -4.14103895e-01,\n",
       "        -3.32656562e-01],\n",
       "       [ 2.07345123e+01, -5.47022879e-01, -5.20249546e-01,\n",
       "        -5.31158626e-01],\n",
       "       [ 2.13628292e+01, -6.52634382e-01, -3.83609325e-01,\n",
       "        -4.73888993e-01],\n",
       "       [ 2.19911480e+01, -7.49466956e-01, -4.34790820e-07,\n",
       "        -4.59747277e-02],\n",
       "       [ 2.26194668e+01, -8.34599316e-01,  4.90564972e-01,\n",
       "         4.23432797e-01],\n",
       "       [ 2.32477856e+01, -9.05051768e-01,  8.60755324e-01,\n",
       "         8.81837189e-01],\n",
       "       [ 2.38761044e+01, -9.57885444e-01,  9.11003172e-01,\n",
       "         8.14966381e-01],\n",
       "       [ 2.45044231e+01, -9.90319133e-01,  5.82094610e-01,\n",
       "         6.17941678e-01],\n",
       "       [ 2.51327419e+01, -9.99860883e-01, -6.99284897e-07,\n",
       "        -8.88991207e-02],\n",
       "       [ 2.57610588e+01, -9.84452367e-01, -5.78645825e-01,\n",
       "        -5.40956140e-01],\n",
       "       [ 2.63893776e+01, -9.42620039e-01, -8.96484733e-01,\n",
       "        -9.37115014e-01],\n",
       "       [ 2.70176964e+01, -8.73628199e-01, -8.30869913e-01,\n",
       "        -8.93283486e-01],\n",
       "       [ 2.76460152e+01, -7.77624190e-01, -4.57076162e-01,\n",
       "        -4.76438761e-01],\n",
       "       [ 2.82743340e+01, -6.55767858e-01,  4.69197197e-08,\n",
       "         1.41675370e-02],\n",
       "       [ 2.89026527e+01, -5.10333478e-01,  2.99966604e-01,\n",
       "         3.47874403e-01],\n",
       "       [ 2.95309715e+01, -3.44773412e-01,  3.27899069e-01,\n",
       "         2.30585724e-01],\n",
       "       [ 3.01592903e+01, -1.63734853e-01,  1.55721053e-01,\n",
       "         7.28701577e-02],\n",
       "       [ 3.07876072e+01,  2.69914381e-02, -1.58651862e-02,\n",
       "        -6.94387704e-02],\n",
       "       [ 3.14159260e+01,  2.20583901e-01, -1.22707220e-07,\n",
       "        -3.17490250e-02]], dtype=float32)"
      ]
     },
     "execution_count": 79,
     "metadata": {},
     "output_type": "execute_result"
    }
   ],
   "source": [
    "data = np.genfromtxt('xy.csv',dtype = np.float32, delimiter = ',', skip_header = 1)\n",
    "data"
   ]
  },
  {
   "cell_type": "markdown",
   "metadata": {
    "id": "IFQLalS8Kves"
   },
   "source": [
    "##Завдання 15"
   ]
  },
  {
   "cell_type": "code",
   "execution_count": 86,
   "metadata": {
    "colab": {
     "base_uri": "https://localhost:8080/",
     "height": 252
    },
    "executionInfo": {
     "elapsed": 280,
     "status": "error",
     "timestamp": 1664460841439,
     "user": {
      "displayName": "Вадім Миценко",
      "userId": "11968395235538177405"
     },
     "user_tz": -180
    },
    "id": "txoIJ2XjKyo2",
    "outputId": "fb9c6ecc-a12a-4e57-f47b-f5ec23acb2ae"
   },
   "outputs": [
    {
     "ename": "IndexError",
     "evalue": "ignored",
     "output_type": "error",
     "traceback": [
      "\u001b[0;31m---------------------------------------------------------------------------\u001b[0m",
      "\u001b[0;31mIndexError\u001b[0m                                Traceback (most recent call last)",
      "\u001b[0;32m<ipython-input-86-9e2e9e47b1f5>\u001b[0m in \u001b[0;36m<module>\u001b[0;34m\u001b[0m\n\u001b[0;32m----> 1\u001b[0;31m \u001b[0mx_csv\u001b[0m \u001b[0;34m=\u001b[0m \u001b[0mdata\u001b[0m\u001b[0;34m[\u001b[0m\u001b[0;34m'x'\u001b[0m\u001b[0;34m]\u001b[0m\u001b[0;34m\u001b[0m\u001b[0;34m\u001b[0m\u001b[0m\n\u001b[0m\u001b[1;32m      2\u001b[0m \u001b[0my2_csv\u001b[0m \u001b[0;34m=\u001b[0m \u001b[0mdata\u001b[0m\u001b[0;34m[\u001b[0m\u001b[0;34m'y2'\u001b[0m\u001b[0;34m]\u001b[0m\u001b[0;34m\u001b[0m\u001b[0;34m\u001b[0m\u001b[0m\n\u001b[1;32m      3\u001b[0m \u001b[0;34m\u001b[0m\u001b[0m\n\u001b[1;32m      4\u001b[0m \u001b[0mprint\u001b[0m\u001b[0;34m(\u001b[0m\u001b[0mnp\u001b[0m\u001b[0;34m.\u001b[0m\u001b[0marray_equal\u001b[0m\u001b[0;34m(\u001b[0m\u001b[0mx_csv\u001b[0m\u001b[0;34m,\u001b[0m \u001b[0mx\u001b[0m\u001b[0;34m)\u001b[0m\u001b[0;34m)\u001b[0m\u001b[0;34m\u001b[0m\u001b[0;34m\u001b[0m\u001b[0m\n\u001b[1;32m      5\u001b[0m \u001b[0mprint\u001b[0m\u001b[0;34m(\u001b[0m\u001b[0mnp\u001b[0m\u001b[0;34m.\u001b[0m\u001b[0marray_equal\u001b[0m\u001b[0;34m(\u001b[0m\u001b[0my2_csv\u001b[0m\u001b[0;34m,\u001b[0m \u001b[0my2\u001b[0m\u001b[0;34m,\u001b[0m \u001b[0mequal_nan\u001b[0m \u001b[0;34m=\u001b[0m \u001b[0;32mTrue\u001b[0m\u001b[0;34m)\u001b[0m\u001b[0;34m)\u001b[0m\u001b[0;34m\u001b[0m\u001b[0;34m\u001b[0m\u001b[0m\n",
      "\u001b[0;31mIndexError\u001b[0m: only integers, slices (`:`), ellipsis (`...`), numpy.newaxis (`None`) and integer or boolean arrays are valid indices"
     ]
    }
   ],
   "source": [
    "x_csv = data['x']\n",
    "y2_csv = data['y2']\n",
    "\n",
    "print(np.array_equal(x_csv, x))\n",
    "print(np.array_equal(y2_csv, y2, equal_nan = True))"
   ]
  }
 ],
 "metadata": {
  "colab": {
   "authorship_tag": "ABX9TyPvtCUdIO++ENwnV8fHE7KZ",
   "provenance": []
  },
  "kernelspec": {
   "display_name": "Python 3 (ipykernel)",
   "language": "python",
   "name": "python3"
  },
  "language_info": {
   "codemirror_mode": {
    "name": "ipython",
    "version": 3
   },
   "file_extension": ".py",
   "mimetype": "text/x-python",
   "name": "python",
   "nbconvert_exporter": "python",
   "pygments_lexer": "ipython3",
   "version": "3.9.13"
  }
 },
 "nbformat": 4,
 "nbformat_minor": 4
}
